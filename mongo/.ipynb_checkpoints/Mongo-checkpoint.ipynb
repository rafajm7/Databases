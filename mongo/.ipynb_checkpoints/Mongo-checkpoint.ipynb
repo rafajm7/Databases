{
 "cells": [
  {
   "cell_type": "markdown",
   "metadata": {},
   "source": [
    "# Mongo"
   ]
  },
  {
   "cell_type": "markdown",
   "metadata": {},
   "source": [
    "Comenzamos cargando las librerías necesarias para la realización de la misma e inicializando la conexión usando `MongoClient`."
   ]
  },
  {
   "cell_type": "code",
   "execution_count": 5,
   "metadata": {},
   "outputs": [],
   "source": [
    "import pandas as pd\n",
    "import matplotlib.pyplot as plt\n",
    "import matplotlib\n",
    "\n",
    "%matplotlib inline\n",
    "matplotlib.style.use('ggplot')\n",
    "\n",
    "import pymongo\n",
    "from pymongo import MongoClient"
   ]
  },
  {
   "cell_type": "markdown",
   "metadata": {},
   "source": [
    "Se puede utilizar el *shell* propio de MongoDB en la máquina virtual usando el programa `mongo`. La diferencia es que ese programa espera código Javascript y aquí trabajaremos con Python."
   ]
  },
  {
   "cell_type": "code",
   "execution_count": 6,
   "metadata": {},
   "outputs": [
    {
     "name": "stdout",
     "output_type": "stream",
     "text": [
      "Requirement already up-to-date: pymongo in /opt/conda/lib/python3.7/site-packages (3.10.1)\n"
     ]
    }
   ],
   "source": [
    "!pip install --upgrade pymongo"
   ]
  },
  {
   "cell_type": "code",
   "execution_count": 7,
   "metadata": {},
   "outputs": [
    {
     "data": {
      "text/plain": [
       "MongoClient(host=['mongo:27017'], document_class=dict, tz_aware=False, connect=True)"
      ]
     },
     "execution_count": 7,
     "metadata": {},
     "output_type": "execute_result"
    }
   ],
   "source": [
    "client = MongoClient(\"mongo\",27017)\n",
    "client"
   ]
  },
  {
   "cell_type": "markdown",
   "metadata": {},
   "source": [
    "A continuación creamos la base de datos cargándola del cliente de MongoDB, y pasamos a realizar los ejercicios propuestos."
   ]
  },
  {
   "cell_type": "code",
   "execution_count": 8,
   "metadata": {},
   "outputs": [
    {
     "data": {
      "text/plain": [
       "Database(MongoClient(host=['mongo:27017'], document_class=dict, tz_aware=False, connect=True), 'stackoverflow')"
      ]
     },
     "execution_count": 8,
     "metadata": {},
     "output_type": "execute_result"
    }
   ],
   "source": [
    "db = client.stackoverflow\n",
    "db"
   ]
  },
  {
   "cell_type": "markdown",
   "metadata": {},
   "source": [
    "Importación de los ficheros CSV. Por ahora creamos una colección diferente para cada uno. Después estudiaremos cómo poder optimizar el acceso usando agregación."
   ]
  },
  {
   "cell_type": "code",
   "execution_count": null,
   "metadata": {},
   "outputs": [],
   "source": [
    "import os\n",
    "import os.path as path\n",
    "from urllib.request import urlretrieve\n",
    "\n",
    "def download_csv_upper_dir(baseurl, filename):\n",
    "    file = path.abspath(path.join(os.getcwd(),os.pardir,filename))\n",
    "    if not os.path.isfile(file):\n",
    "        urlretrieve(baseurl + '/' + filename, file)\n",
    "\n",
    "baseurl = 'http://neuromancer.inf.um.es:8080/es.stackoverflow/'\n",
    "download_csv_upper_dir(baseurl, 'Posts.csv')\n",
    "download_csv_upper_dir(baseurl, 'Users.csv')\n",
    "download_csv_upper_dir(baseurl, 'Tags.csv')\n",
    "download_csv_upper_dir(baseurl, 'Comments.csv')\n",
    "download_csv_upper_dir(baseurl, 'Votes.csv')"
   ]
  },
  {
   "cell_type": "markdown",
   "metadata": {},
   "source": [
    "Cargamos el contenido de los CSVs:"
   ]
  },
  {
   "cell_type": "code",
   "execution_count": 14,
   "metadata": {},
   "outputs": [],
   "source": [
    "import csv\n",
    "from datetime import datetime\n",
    "\n",
    "def csv_to_mongo(file, coll):\n",
    "    \"\"\"\n",
    "    Carga un fichero CSV en Mongo. file especifica el fichero, coll la colección\n",
    "    dentro de la base de datos, y date_cols las columnas que serán interpretadas\n",
    "    como fechas.\n",
    "    \"\"\"\n",
    "    # Convertir todos los elementos que se puedan a números\n",
    "    def to_numeric(d):\n",
    "        try:\n",
    "            return int(d)\n",
    "        except ValueError:\n",
    "            try:\n",
    "                return float(d)\n",
    "            except ValueError:\n",
    "                return d\n",
    "    \n",
    "    def to_date(d):\n",
    "        \"\"\"To ISO Date. If this cannot be converted, return NULL (None)\"\"\"\n",
    "        try:\n",
    "            return datetime.strptime(d, \"%Y-%m-%dT%H:%M:%S.%f\")\n",
    "        except ValueError:\n",
    "            return None\n",
    "    \n",
    "    coll.drop()\n",
    "\n",
    "    with open(file) as f:\n",
    "        # La llamada csv.reader() crea un iterador sobre un fichero CSV\n",
    "        reader = csv.reader(f, dialect='excel')\n",
    "        \n",
    "        # Se leen las columnas. Sus nombres se usarán para crear las diferentes columnas en la familia\n",
    "        columns = next(reader)\n",
    "        \n",
    "        # Las columnas que contienen 'Date' se interpretan como fechas\n",
    "        func_to_cols = list(map(lambda c: to_date if 'date' in c.lower() else to_numeric, columns))\n",
    "        \n",
    "        docs=[]\n",
    "        for row in reader:\n",
    "            row = [func(e) for (func,e) in zip(func_to_cols, row)]\n",
    "            docs.append(dict(zip(columns, row)))\n",
    "        coll.insert_many(docs)"
   ]
  },
  {
   "cell_type": "code",
   "execution_count": 15,
   "metadata": {},
   "outputs": [],
   "source": [
    "csv_to_mongo('../Posts.csv',db.posts)"
   ]
  },
  {
   "cell_type": "code",
   "execution_count": 16,
   "metadata": {},
   "outputs": [],
   "source": [
    "csv_to_mongo('../Users.csv',db.users)"
   ]
  },
  {
   "cell_type": "code",
   "execution_count": 17,
   "metadata": {},
   "outputs": [],
   "source": [
    "csv_to_mongo('../Votes.csv',db.votes)"
   ]
  },
  {
   "cell_type": "code",
   "execution_count": 18,
   "metadata": {},
   "outputs": [],
   "source": [
    "csv_to_mongo('../Comments.csv',db.comments)"
   ]
  },
  {
   "cell_type": "code",
   "execution_count": 19,
   "metadata": {},
   "outputs": [],
   "source": [
    "csv_to_mongo('../Tags.csv',db.tags)"
   ]
  },
  {
   "cell_type": "code",
   "execution_count": 21,
   "metadata": {},
   "outputs": [],
   "source": [
    "posts = db.posts"
   ]
  },
  {
   "cell_type": "code",
   "execution_count": 22,
   "metadata": {},
   "outputs": [
    {
     "data": {
      "text/plain": [
       "76278"
      ]
     },
     "execution_count": 22,
     "metadata": {},
     "output_type": "execute_result"
    }
   ],
   "source": [
    "posts.count_documents({})"
   ]
  },
  {
   "cell_type": "markdown",
   "metadata": {},
   "source": [
    "Para que el proceso map-reduce y de agregación funcione mejor, voy a crear índices sobre los atributos que se usarán como índice... Ojo, si no se crea las consultas pueden tardar mucho."
   ]
  },
  {
   "cell_type": "code",
   "execution_count": 23,
   "metadata": {},
   "outputs": [
    {
     "data": {
      "text/plain": [
       "('Id_hashed', 'Id_hashed', 'Id_hashed')"
      ]
     },
     "execution_count": 23,
     "metadata": {},
     "output_type": "execute_result"
    }
   ],
   "source": [
    "(\n",
    "    db.posts.create_index([('Id', pymongo.HASHED)]),\n",
    "    db.comments.create_index([('Id', pymongo.HASHED)]),\n",
    "    db.users.create_index([('Id', pymongo.HASHED)])\n",
    ")"
   ]
  },
  {
   "cell_type": "markdown",
   "metadata": {},
   "source": [
    "## EJERCICIO: Con Map-Reduce, construir las colecciones que asocian un usuario con sus tags y los tags con los usuarios que las utilizan (E1)."
   ]
  },
  {
   "cell_type": "markdown",
   "metadata": {},
   "source": [
    "En este ejercicio vamos a aplicar dos veces Map-Reduce para obtener cada una de las colecciones que pide el enunciado. Ambos procedimientos los hemos aplicado sobre la colección de posts.\n",
    "\n",
    "Para obtener la primera de ellas, en la función *map*, extraemos los tags de cada post  aplicando las funciones `substr()` y  `split()` de javascript: primero eliminamos el primer (<) y el último (>) caracter de la cadena y a continuación separamos los diferentes tags en un array usando como delimitador '><'.\n",
    "\n",
    "La clave que emitimos en la función `map()` es el usuario que es el propietario de ese post, mientras que los valores son los tags del post que ha escrito ese usuario. Por tanto, en la función `reduce()` lo que hacemos es recorrer los tags que le llegan y añadirlos a una misma lista de tags, uniendo así todos los tags que pertenecen al mismo usuario. Es importante remarcar, como vimos en clase, que la función `reduce()` ha de devolver los mismos valores que la función `map()`, ya que la función `reduce()` no se ejecutará si no hay más de un elemento asociado a la misma clave, y puede ocurrir que la función `reduce()` reciba valores tanto de la función `map()` como de la propia función `reduce()`. Esta lista de tags que devuelve el método `reduce()` la hemos ordenado para que en el resultado final nos salgan ordenados para cada usuario. \n",
    "\n",
    "Por otro lado, antes de devolver la lista ordenada, para que no nos salgan repetidos los tags que un usuario ha usado en varios posts, hemos transformado la lista de tags en un `Set` de javascript, que guarda solo los valores únicos de la lista. Ese `Set` es entonces transformado de nuevo a una lista usando el operador `...` de javascript. \n",
    "\n",
    "Por último, para los usuarios que no han hecho ninguna pregunta y no tienen ningún tag asociado hemos optado por mostrarlos en la colección y añadirles una lista de tags vacía. Podríamos haberlos eliminado directamente usando el modificador `query` de la función map_reduce(), como en el caso que veremos a continuación, pero hemos preferido mantenerlos en la colección y añadir una condición en la función `reduce()` para evitar que salga la cadena vacía como tag."
   ]
  },
  {
   "cell_type": "code",
   "execution_count": 24,
   "metadata": {},
   "outputs": [
    {
     "data": {
      "text/plain": [
       "Collection(Database(MongoClient(host=['mongo:27017'], document_class=dict, tz_aware=False, connect=True), 'stackoverflow'), 'user_tags')"
      ]
     },
     "execution_count": 24,
     "metadata": {},
     "output_type": "execute_result"
    }
   ],
   "source": [
    "from bson.code import Code\n",
    "\n",
    "tags_map = Code('''\n",
    "function () {\n",
    "  tags = this.Tags.substr(1).substr(0, this.Tags.length-2).split(\"><\")\n",
    "  emit(this.OwnerUserId, { tags: tags });\n",
    "}\n",
    "''')\n",
    "\n",
    "tags_reduce = Code('''\n",
    "function (key, values) {\n",
    "    tags = [];\n",
    "    values.forEach(function(v) {\n",
    "        if (v.tags != '')\n",
    "            tags = tags.concat(v.tags)\n",
    "    })\n",
    "    tags = [...new Set(tags)]; \n",
    "    return { tags: tags.sort() };\n",
    "}\n",
    "''')\n",
    "\n",
    "db.posts.map_reduce(tags_map, tags_reduce, \"user_tags\")"
   ]
  },
  {
   "cell_type": "markdown",
   "metadata": {},
   "source": [
    "A continuación mostramos los diez primeros elementos de la nueva colección creada:"
   ]
  },
  {
   "cell_type": "code",
   "execution_count": 25,
   "metadata": {
    "collapsed": true,
    "jupyter": {
     "outputs_hidden": true
    }
   },
   "outputs": [
    {
     "data": {
      "text/plain": [
       "[{'_id': -1.0, 'value': {'tags': []}},\n",
       " {'_id': 20.0, 'value': {'tags': ['typescript']}},\n",
       " {'_id': 21.0,\n",
       "  'value': {'tags': ['android',\n",
       "    'array',\n",
       "    'casting',\n",
       "    'datetime',\n",
       "    'delphi',\n",
       "    'impresión',\n",
       "    'javascript',\n",
       "    'join',\n",
       "    'jquery',\n",
       "    'lenguaje-compilado',\n",
       "    'mysql',\n",
       "    'oracle',\n",
       "    'oracle-10g',\n",
       "    'pascal',\n",
       "    'poo',\n",
       "    'sobrecarga',\n",
       "    'socket',\n",
       "    'split',\n",
       "    'sql',\n",
       "    'string',\n",
       "    'tcp',\n",
       "    'tcpip',\n",
       "    'timestamp',\n",
       "    'windows']}},\n",
       " {'_id': 22.0,\n",
       "  'value': {'tags': ['array',\n",
       "    'atómico',\n",
       "    'booleano',\n",
       "    'conversión-de-tipos',\n",
       "    'eventos',\n",
       "    'git',\n",
       "    'go',\n",
       "    'javascript',\n",
       "    'jquery',\n",
       "    'json',\n",
       "    'nodejs',\n",
       "    'perl',\n",
       "    'pouchdb',\n",
       "    'sandbox',\n",
       "    'seguridad',\n",
       "    'tipos']}},\n",
       " {'_id': 23.0,\n",
       "  'value': {'tags': ['.net',\n",
       "    'ajax',\n",
       "    'angularjs',\n",
       "    'asp.net',\n",
       "    'asp.net-web-api',\n",
       "    'c#',\n",
       "    'git',\n",
       "    'google-maps',\n",
       "    'jasmine',\n",
       "    'javascript',\n",
       "    'karma-jasmine',\n",
       "    'mercurial',\n",
       "    'momentjs']}},\n",
       " {'_id': 24.0,\n",
       "  'value': {'tags': ['android',\n",
       "    'android-studio',\n",
       "    'angular2-template',\n",
       "    'angularjs-2.0',\n",
       "    'arquitectura',\n",
       "    'c',\n",
       "    'c#',\n",
       "    'c++',\n",
       "    'c++11',\n",
       "    'casting',\n",
       "    'compilador',\n",
       "    'gnu',\n",
       "    'gradle',\n",
       "    'interprete',\n",
       "    'java',\n",
       "    'linux',\n",
       "    'string',\n",
       "    'terminal',\n",
       "    'tokens',\n",
       "    'vscode']}},\n",
       " {'_id': 25.0,\n",
       "  'value': {'tags': ['array',\n",
       "    'c#',\n",
       "    'c++',\n",
       "    'c++11',\n",
       "    'código-abierto',\n",
       "    'git',\n",
       "    'groovy',\n",
       "    'java',\n",
       "    'javascript',\n",
       "    'licencias',\n",
       "    'nodejs',\n",
       "    'revisión-de-código',\n",
       "    'visual-studio-2015',\n",
       "    'xml']}},\n",
       " {'_id': 26.0, 'value': {'tags': []}},\n",
       " {'_id': 27.0,\n",
       "  'value': {'tags': ['javascript', 'android', 'reactjs', 'react-native']}},\n",
       " {'_id': 28.0, 'value': {'tags': []}}]"
      ]
     },
     "execution_count": 25,
     "metadata": {},
     "output_type": "execute_result"
    }
   ],
   "source": [
    "list(db.user_tags.find()[:10])"
   ]
  },
  {
   "cell_type": "markdown",
   "metadata": {},
   "source": [
    "El proceso seguido para mostrar los usuarios que han usado cada tag es parecido al anterior. En este caso, hemos de emitir en la función `map()` cada uno de los tags que hay presentes en el post. Para ello, recorremos la lista de tags obtenida de la aplicación de la función `split()` y emitimos cada tag con el id del propietario del post como valor. \n",
    "\n",
    "En la función `reduce()`, tomamos cada uno de los valores que le llegan de los *mappers* y/o *reducers* y se concatenan en una misma lista todos los usuarios correspondientes al tag en concreto. Por último, devolvemos los ids de los usuarios sin duplicados y en orden ascendente, usando de nuevo los `Sets` y la función `sort` de javascript, a la que hay que pasarle una función que indique el orden que queremos aplicar, ya que por defecto esté método ordena los elementos alfabéticamente.\n",
    "\n",
    "Es importante mencionar sobre la función `map()` que hemos decidido eliminar los usuarios que hicieron preguntas pero no existen en la tabla users, y que se corresponden con cadenas vacías en el campo `OwnerUserId` de la tabla posts. Por ello hemos comprobado si el id del usuario es vacío cada vez que se va a emitir un tag.\n",
    "\n",
    "Además, en este caso hemos usado el modificador `query` de `map_reduce` para quedarnos únicamente con los posts cuyos tags no fueran vacíos, eliminando así las respuestas y otros tipos de posts."
   ]
  },
  {
   "cell_type": "code",
   "execution_count": 26,
   "metadata": {},
   "outputs": [
    {
     "data": {
      "text/plain": [
       "Collection(Database(MongoClient(host=['mongo:27017'], document_class=dict, tz_aware=False, connect=True), 'stackoverflow'), 'tags_user')"
      ]
     },
     "execution_count": 26,
     "metadata": {},
     "output_type": "execute_result"
    }
   ],
   "source": [
    "users_map = Code('''\n",
    "function () {\n",
    "  tags = this.Tags.substr(1).substr(0, this.Tags.length-2).split(\"><\")\n",
    "  OwnerUserId = this.OwnerUserId\n",
    "  tags.forEach(function(tag){\n",
    "      if (OwnerUserId != '')\n",
    "          emit(tag, { users: [OwnerUserId] });\n",
    "  })\n",
    "}\n",
    "''')\n",
    "\n",
    "users_reduce = Code('''\n",
    "function (key, values) {\n",
    "    users = [];\n",
    "    values.forEach(function(v) {\n",
    "        users = users.concat(v.users)\n",
    "    })\n",
    "    users = [...new Set(users)]; \n",
    "    return { users: users.sort((a, b) => a - b) };\n",
    "}\n",
    "''')\n",
    "\n",
    "db.posts.map_reduce(users_map, users_reduce, \"tags_user\", query={\"Tags\": {'$ne' : ''}})"
   ]
  },
  {
   "cell_type": "markdown",
   "metadata": {},
   "source": [
    "Por último mostramos los 10 primeros elementos de la colección generada:"
   ]
  },
  {
   "cell_type": "code",
   "execution_count": 27,
   "metadata": {
    "collapsed": true,
    "jupyter": {
     "outputs_hidden": true
    }
   },
   "outputs": [
    {
     "data": {
      "text/plain": [
       "[{'_id': '.asmx',\n",
       "  'value': {'users': [4361.0,\n",
       "    9039.0,\n",
       "    9885.0,\n",
       "    23683.0,\n",
       "    24842.0,\n",
       "    27002.0,\n",
       "    43605.0]}},\n",
       " {'_id': '.htaccess',\n",
       "  'value': {'users': [166.0,\n",
       "    517.0,\n",
       "    872.0,\n",
       "    1746.0,\n",
       "    2676.0,\n",
       "    2770.0,\n",
       "    3248.0,\n",
       "    3947.0,\n",
       "    4328.0,\n",
       "    4530.0,\n",
       "    4571.0,\n",
       "    4718.0,\n",
       "    5248.0,\n",
       "    5438.0,\n",
       "    5583.0,\n",
       "    5716.0,\n",
       "    6044.0,\n",
       "    6046.0,\n",
       "    6187.0,\n",
       "    6897.0,\n",
       "    7358.0,\n",
       "    7498.0,\n",
       "    7679.0,\n",
       "    8752.0,\n",
       "    9142.0,\n",
       "    9254.0,\n",
       "    9470.0,\n",
       "    9529.0,\n",
       "    9754.0,\n",
       "    10365.0,\n",
       "    10399.0,\n",
       "    10486.0,\n",
       "    10796.0,\n",
       "    11342.0,\n",
       "    11349.0,\n",
       "    12545.0,\n",
       "    13041.0,\n",
       "    14025.0,\n",
       "    14132.0,\n",
       "    15481.0,\n",
       "    15594.0,\n",
       "    15653.0,\n",
       "    16107.0,\n",
       "    16978.0,\n",
       "    18000.0,\n",
       "    18031.0,\n",
       "    18124.0,\n",
       "    18587.0,\n",
       "    18771.0,\n",
       "    19419.0,\n",
       "    20493.0,\n",
       "    20709.0,\n",
       "    21670.0,\n",
       "    21882.0,\n",
       "    23610.0,\n",
       "    25829.0,\n",
       "    25908.0,\n",
       "    26657.0,\n",
       "    26878.0,\n",
       "    27226.0,\n",
       "    27667.0,\n",
       "    27826.0,\n",
       "    27916.0,\n",
       "    29516.0,\n",
       "    29967.0,\n",
       "    30152.0,\n",
       "    30706.0,\n",
       "    31455.0,\n",
       "    32994.0,\n",
       "    33462.0,\n",
       "    35340.0,\n",
       "    35768.0,\n",
       "    36049.0,\n",
       "    36157.0,\n",
       "    37364.0,\n",
       "    37608.0,\n",
       "    37695.0,\n",
       "    45740.0,\n",
       "    46275.0,\n",
       "    47637.0,\n",
       "    49661.0,\n",
       "    51884.0,\n",
       "    52036.0,\n",
       "    52463.0,\n",
       "    54420.0,\n",
       "    54489.0,\n",
       "    55288.0,\n",
       "    55754.0,\n",
       "    55890.0,\n",
       "    56955.0]}},\n",
       " {'_id': '.htpasswd', 'value': {'users': [5716.0]}},\n",
       " {'_id': '.net',\n",
       "  'value': {'users': [23.0,\n",
       "    250.0,\n",
       "    298.0,\n",
       "    463.0,\n",
       "    531.0,\n",
       "    547.0,\n",
       "    562.0,\n",
       "    745.0,\n",
       "    822.0,\n",
       "    921.0,\n",
       "    1168.0,\n",
       "    1274.0,\n",
       "    1473.0,\n",
       "    1482.0,\n",
       "    1962.0,\n",
       "    2004.0,\n",
       "    2224.0,\n",
       "    2247.0,\n",
       "    2488.0,\n",
       "    2883.0,\n",
       "    2896.0,\n",
       "    2945.0,\n",
       "    2946.0,\n",
       "    2947.0,\n",
       "    3008.0,\n",
       "    3022.0,\n",
       "    3088.0,\n",
       "    3142.0,\n",
       "    3249.0,\n",
       "    3541.0,\n",
       "    3544.0,\n",
       "    3727.0,\n",
       "    3803.0,\n",
       "    3879.0,\n",
       "    4048.0,\n",
       "    4361.0,\n",
       "    4499.0,\n",
       "    4574.0,\n",
       "    4610.0,\n",
       "    4612.0,\n",
       "    4748.0,\n",
       "    4779.0,\n",
       "    4787.0,\n",
       "    4914.0,\n",
       "    5271.0,\n",
       "    5602.0,\n",
       "    5668.0,\n",
       "    5671.0,\n",
       "    5715.0,\n",
       "    5723.0,\n",
       "    5729.0,\n",
       "    5811.0,\n",
       "    5866.0,\n",
       "    5997.0,\n",
       "    6298.0,\n",
       "    6764.0,\n",
       "    6791.0,\n",
       "    6808.0,\n",
       "    6881.0,\n",
       "    7132.0,\n",
       "    7216.0,\n",
       "    7242.0,\n",
       "    7254.0,\n",
       "    7273.0,\n",
       "    7491.0,\n",
       "    7545.0,\n",
       "    7692.0,\n",
       "    8873.0,\n",
       "    8990.0,\n",
       "    9130.0,\n",
       "    9476.0,\n",
       "    9883.0,\n",
       "    9947.0,\n",
       "    10428.0,\n",
       "    10686.0,\n",
       "    10744.0,\n",
       "    10952.0,\n",
       "    11354.0,\n",
       "    12640.0,\n",
       "    12891.0,\n",
       "    12902.0,\n",
       "    13432.0,\n",
       "    13526.0,\n",
       "    13701.0,\n",
       "    14181.0,\n",
       "    14211.0,\n",
       "    14236.0,\n",
       "    14461.0,\n",
       "    14706.0,\n",
       "    15270.0,\n",
       "    15284.0,\n",
       "    15301.0,\n",
       "    15439.0,\n",
       "    15562.0,\n",
       "    15572.0,\n",
       "    15596.0,\n",
       "    15675.0,\n",
       "    15710.0,\n",
       "    15883.0,\n",
       "    16449.0,\n",
       "    16744.0,\n",
       "    17625.0,\n",
       "    18477.0,\n",
       "    18737.0,\n",
       "    19052.0,\n",
       "    21180.0,\n",
       "    21459.0,\n",
       "    21471.0,\n",
       "    21643.0,\n",
       "    21904.0,\n",
       "    21979.0,\n",
       "    22005.0,\n",
       "    22205.0,\n",
       "    22242.0,\n",
       "    22324.0,\n",
       "    22387.0,\n",
       "    22395.0,\n",
       "    22571.0,\n",
       "    22584.0,\n",
       "    22698.0,\n",
       "    23697.0,\n",
       "    24364.0,\n",
       "    24842.0,\n",
       "    24867.0,\n",
       "    25708.0,\n",
       "    26195.0,\n",
       "    26651.0,\n",
       "    26903.0,\n",
       "    27002.0,\n",
       "    27435.0,\n",
       "    27634.0,\n",
       "    27705.0,\n",
       "    27833.0,\n",
       "    28050.0,\n",
       "    28378.0,\n",
       "    28472.0,\n",
       "    28475.0,\n",
       "    28772.0,\n",
       "    28831.0,\n",
       "    29028.0,\n",
       "    29179.0,\n",
       "    29261.0,\n",
       "    29296.0,\n",
       "    29875.0,\n",
       "    30038.0,\n",
       "    30129.0,\n",
       "    30131.0,\n",
       "    30353.0,\n",
       "    30509.0,\n",
       "    30514.0,\n",
       "    30722.0,\n",
       "    30762.0,\n",
       "    30839.0,\n",
       "    31656.0,\n",
       "    31660.0,\n",
       "    32336.0,\n",
       "    33042.0,\n",
       "    33073.0,\n",
       "    33213.0,\n",
       "    33484.0,\n",
       "    33834.0,\n",
       "    34051.0,\n",
       "    34194.0,\n",
       "    34427.0,\n",
       "    35183.0,\n",
       "    35733.0,\n",
       "    35781.0,\n",
       "    35795.0,\n",
       "    37542.0,\n",
       "    37794.0,\n",
       "    38307.0,\n",
       "    38309.0,\n",
       "    38929.0,\n",
       "    39984.0,\n",
       "    40111.0,\n",
       "    40501.0,\n",
       "    40712.0,\n",
       "    41156.0,\n",
       "    41515.0,\n",
       "    43085.0,\n",
       "    44985.0,\n",
       "    45449.0,\n",
       "    45649.0,\n",
       "    45739.0,\n",
       "    46154.0,\n",
       "    46542.0,\n",
       "    47330.0,\n",
       "    47359.0,\n",
       "    47536.0,\n",
       "    48060.0,\n",
       "    48401.0,\n",
       "    48505.0,\n",
       "    49228.0,\n",
       "    50737.0,\n",
       "    51058.0,\n",
       "    51093.0,\n",
       "    51862.0,\n",
       "    51933.0,\n",
       "    52400.0,\n",
       "    53738.0,\n",
       "    54012.0,\n",
       "    54092.0,\n",
       "    54329.0,\n",
       "    55221.0,\n",
       "    55233.0,\n",
       "    55451.0,\n",
       "    55738.0,\n",
       "    56428.0,\n",
       "    56513.0,\n",
       "    56976.0,\n",
       "    57087.0,\n",
       "    57161.0,\n",
       "    57302.0,\n",
       "    57448.0,\n",
       "    57466.0]}},\n",
       " {'_id': '.net-core', 'value': {'users': [30353.0]}},\n",
       " {'_id': '2d',\n",
       "  'value': {'users': [2257.0, 5449.0, 13724.0, 27229.0, 39510.0]}},\n",
       " {'_id': '3d',\n",
       "  'value': {'users': [342.0,\n",
       "    2998.0,\n",
       "    20401.0,\n",
       "    22584.0,\n",
       "    23739.0,\n",
       "    25764.0,\n",
       "    30578.0,\n",
       "    44032.0,\n",
       "    46230.0]}},\n",
       " {'_id': 'abap', 'value': {'users': [1098.0, 19839.0]}},\n",
       " {'_id': 'accesibilidad', 'value': {'users': [250.0, 29967.0]}},\n",
       " {'_id': 'access-control', 'value': {'users': [7246.0]}}]"
      ]
     },
     "execution_count": 27,
     "metadata": {},
     "output_type": "execute_result"
    }
   ],
   "source": [
    "list(db.tags_user.find()[:10])"
   ]
  },
  {
   "cell_type": "markdown",
   "metadata": {},
   "source": [
    "## EJERCICIO: Con el Framework de Agregación, generar la colección `StackOverflowFacts` vista en la sesión 2 (E2)."
   ]
  },
  {
   "cell_type": "markdown",
   "metadata": {},
   "source": [
    "En este ejercicio vamos a generar una colección en la que cada documento sea un fact diferente, ya sean posts, usuarios, votos o comentarios. Una de las ventajas que nos da Mongo es que cada documento puede tener un conjunto de atributos diferentes, lo que nos evita tener que añadir valores nulos como en el caso de SQL.\n",
    "\n",
    "El proceso de creación de esta colección se puede resumir en los siguientes pasos:\n",
    "\n",
    "- Primero, instanciamos un agregado de una colección cualquiera de la base de datos. Por ejemplo, posts.\n",
    "- A continuación, limitamos esa colección a un único elemento y lo vaciamos, quedándonos con una colección que únicamente tiene un documento vacío.\n",
    "- Es entonces cuando añadimos tantos lookups como colecciones diferentes queremos unir en la nueva colección. Al no añadir ningún valor a los campos `localField` y `foreignField`, conseguimos que se añadan las colecciones al completo. Por otro lado, hemos decidido proyectar únicamente algunos valores por colección. En el caso de los usuarios, votos y comentarios hemos añadido el id y la fecha de creación. Para posts, sin embargo, hemos incluido también el id del propietario del post y el id del tipo de pregunta, ya que los usaremos en el último ejercicio. Además, hemos añadido un string identificativo a cada colección llamado `type` que nos ayudará a comprobar que la creación de la colección ha sido correcta.\n",
    "- En este punto, tenemos un agregado que consiste en un único documento que contiene cuatro arrays: uno por cada tipo de colección que hemos añadido usando `$lookup`. Para poder separar los arrays en documentos distintos de la colección hemos de realizar tres pasos. Primero, unimos los cuatro arrays usando el operador `$concatArrays`, lo que nos da un único documento con un único array conteniendo todos los documentos de las colecciones que queremos unir.\n",
    "- Después, aplicamos `$unwind` para eliminar el array y obtener un único documento conteniendo todos los documentos que queremos separar. Cada uno de estos documentos tiene como clave la palabra \"union\".\n",
    "- Por último, aplicamos el operador `$replaceRoot`, que nos permite reemplazar nuestro documento principal con todos los documentos contenidos en la unión, es decir, todos los elementos cuya clave sea \"unión\", lo que nos da el agregado con todos los facts como documentos. El resultado obtenido lo escribimos en una colección llamada `StackOverflowFacts` usando el operador `$out`.\n"
   ]
  },
  {
   "cell_type": "code",
   "execution_count": 28,
   "metadata": {},
   "outputs": [],
   "source": [
    "stack_overflow_facts = db.posts.aggregate([\n",
    "        { \"$limit\": 1 },\n",
    "        { \"$project\": { \"_id\": \"$$REMOVE\" } },\n",
    "        { \"$lookup\" : {\n",
    "            'from': \"posts\", \n",
    "            'pipeline': [{ \"$project\" : { \"PostId\": \"$Id\", \"type\": \"Post\", \"OwnerUserId\": 1, \"PostTypeId\": 1, \"CreationDate\": 1 }}],\n",
    "            'as': \"post\"}\n",
    "        },\n",
    "        { \"$lookup\" : {\n",
    "            'from': \"users\", \n",
    "            'pipeline': [{ \"$project\" : { \"UserId\": \"$Id\", \"type\": \"User\", \"CreationDate\": 1 }}],\n",
    "            'as': \"user\"}\n",
    "        },\n",
    "        \n",
    "        { \"$lookup\" : {\n",
    "            'from': \"votes\", \n",
    "            'pipeline': [{ \"$project\" : { \"VoteId\": \"$Id\", \"type\": \"Vote\", \"CreationDate\": 1 }}],\n",
    "            'as': \"vote\"}\n",
    "        },\n",
    "        { \"$lookup\" : {\n",
    "            'from': \"comments\", \n",
    "            'pipeline': [{ \"$project\" : { \"CommentId\": \"$Id\", \"type\": \"Comment\", \"CreationDate\": 1 }}],\n",
    "            'as': \"comment\"}\n",
    "        },\n",
    "    \n",
    "        { \"$project\": { \"union\": { \"$concatArrays\": [\"$post\", \"$user\", \"$vote\", \"$comment\"] } } },\n",
    "        { \"$unwind\": \"$union\" },\n",
    "        { \"$replaceRoot\": { \"newRoot\": '$union' } },\n",
    "        { \"$out\": \"StackOverflowFacts\"}\n",
    "        \n",
    "])"
   ]
  },
  {
   "cell_type": "markdown",
   "metadata": {},
   "source": [
    "Para comprobar que todo se ha realizado correctamente, vamos a usar la función `groupby()` de la librería `itertools` de Python para ver cuántos documentos tenemos por cada tipo de fact, y después compararlo con el número de documentos pertenecientes a cada una de las colecciones de posts, users, votes y comments de la base de datos. Como se puede observar, el número de facts de cada tipo es el mismo en ambos casos."
   ]
  },
  {
   "cell_type": "code",
   "execution_count": 29,
   "metadata": {},
   "outputs": [
    {
     "data": {
      "text/plain": [
       "[76278, 49033, 165621, 123662]"
      ]
     },
     "execution_count": 29,
     "metadata": {},
     "output_type": "execute_result"
    }
   ],
   "source": [
    "types = [x['type'] for x in list(db.StackOverflowFacts.find())]\n",
    "from itertools import groupby\n",
    "[len(list(group)) for key, group in groupby(types)]"
   ]
  },
  {
   "cell_type": "code",
   "execution_count": 30,
   "metadata": {},
   "outputs": [
    {
     "data": {
      "text/plain": [
       "[76278, 49033, 165621, 123662]"
      ]
     },
     "execution_count": 30,
     "metadata": {},
     "output_type": "execute_result"
    }
   ],
   "source": [
    "[db.posts.count_documents({}), db.users.count_documents({}), db.votes.count_documents({}), db.comments.count_documents({})]"
   ]
  },
  {
   "cell_type": "markdown",
   "metadata": {},
   "source": [
    "## EJERCICIO: Con Map-Reduce, implementar la consulta RQ3 de la sesión 2."
   ]
  },
  {
   "cell_type": "markdown",
   "metadata": {},
   "source": [
    "Para realizar este ejercicio, hemos considerado necesario aplicar dos veces Map-Reduce. En la primera de las aplicaciones, obtenemos por cada usuario el porcentaje de sus posts que son respuestas. \n",
    "\n",
    "Para ello, aplicamos la función `map_reduce()` a los posts y en la función `map()` distinguimos si el post es una pregunta o una respuesta. En ambos casos emitimos como clave el propietario de la pregunta, y como valor un objeto cuyos valores son el porcentaje de posts que son respuestas y el número de posts de ese usuario. \n",
    "Por tanto, en caso de ser una pregunta, el porcentaje de respuestas es 0, y en caso de ser una respuesta, el porcentaje es 100. En ambos casos el número de posts del usuario es 1.\n",
    "\n",
    "Por otro lado, en la función `reduce()` aplicamos un procedimiento similar al visto en clase para obtener la puntuación media de los posts. Primero, se crean dos variables `porcentaje` y `sum` que vamos a ir actualizando. Por cada valor que le llega a la función `reduce()`, se actualiza el porcentaje sumándole el producto entre el porcentaje de ese valor y el número de posts que le corresponden, y se actualiza el número de posts sumándole el número de posts de todos los valores. Por último, para devolver el porcentaje se divide la variable `porcentaje` entre el número de posts, lo que hace que podamos obtener el porcentaje de respuestas acumulado entre todos los posts del usuario que le han llegado a la función `reduce()`."
   ]
  },
  {
   "cell_type": "code",
   "execution_count": 31,
   "metadata": {},
   "outputs": [
    {
     "data": {
      "text/plain": [
       "Collection(Database(MongoClient(host=['mongo:27017'], document_class=dict, tz_aware=False, connect=True), 'stackoverflow'), 'porc_respuestas')"
      ]
     },
     "execution_count": 31,
     "metadata": {},
     "output_type": "execute_result"
    }
   ],
   "source": [
    "porcentaje_map = Code('''\n",
    "function () {\n",
    "  if (this.PostTypeId == 1)\n",
    "      emit(this.OwnerUserId, { porcentaje: 0, num: 1})\n",
    "  else if (this.PostTypeId == 2)\n",
    "      emit(this.OwnerUserId, { porcentaje: 100, num: 1})\n",
    "}\n",
    "''')\n",
    "\n",
    "porcentaje_reduce = Code('''\n",
    "function (key, values) {\n",
    "    porcentaje = 0.0\n",
    "    num = 0\n",
    "    values.forEach(function(v) { \n",
    "        porcentaje += v.porcentaje*v.num\n",
    "        num += v.num\n",
    "    })\n",
    "    return { porcentaje : porcentaje/num, num: num };\n",
    "}\n",
    "''')\n",
    "\n",
    "db.posts.map_reduce(porcentaje_map, porcentaje_reduce, \"porc_respuestas\")"
   ]
  },
  {
   "cell_type": "markdown",
   "metadata": {},
   "source": [
    "A continuación mostramos los 20 primeros valores de la colección obtenida en el primer Map-Reduce. Hemos decidido no redondear el porcentaje porque en la siguiente aplicación del Map-Reduce vamos a dividirlos en intervalos, y no queremos que tras el redondeo algún valor caiga en un grupo que no le pertenece."
   ]
  },
  {
   "cell_type": "code",
   "execution_count": 32,
   "metadata": {},
   "outputs": [
    {
     "data": {
      "text/plain": [
       "[{'_id': 20.0, 'value': {'porcentaje': 99.4535519125683, 'num': 183.0}},\n",
       " {'_id': 21.0, 'value': {'porcentaje': 89.34426229508196, 'num': 122.0}},\n",
       " {'_id': 22.0, 'value': {'porcentaje': 36.00000000000001, 'num': 25.0}},\n",
       " {'_id': 23.0, 'value': {'porcentaje': 75.86206896551724, 'num': 29.0}},\n",
       " {'_id': 24.0, 'value': {'porcentaje': 88.37209302325581, 'num': 215.0}},\n",
       " {'_id': 25.0, 'value': {'porcentaje': 96.19883040935673, 'num': 342.0}},\n",
       " {'_id': 26.0, 'value': {'porcentaje': 100.0, 'num': 98.0}},\n",
       " {'_id': 27.0, 'value': {'porcentaje': 0.0, 'num': 1.0}},\n",
       " {'_id': 28.0, 'value': {'porcentaje': 100.0, 'num': 69.0}},\n",
       " {'_id': 29.0, 'value': {'porcentaje': 33.333333333333336, 'num': 3.0}},\n",
       " {'_id': 34.0, 'value': {'porcentaje': 95.23809523809524, 'num': 21.0}},\n",
       " {'_id': 35.0, 'value': {'porcentaje': 50.0, 'num': 6.0}},\n",
       " {'_id': 37.0, 'value': {'porcentaje': 33.333333333333336, 'num': 3.0}},\n",
       " {'_id': 39.0, 'value': {'porcentaje': 50.0, 'num': 4.0}},\n",
       " {'_id': 45.0, 'value': {'porcentaje': 98.7012987012987, 'num': 77.0}},\n",
       " {'_id': 58.0, 'value': {'porcentaje': 100.0, 'num': 2.0}},\n",
       " {'_id': 65.0, 'value': {'porcentaje': 84.7926267281106, 'num': 217.0}},\n",
       " {'_id': 67.0, 'value': {'porcentaje': 100.0, 'num': 2.0}},\n",
       " {'_id': 71.0, 'value': {'porcentaje': 100.0, 'num': 2.0}},\n",
       " {'_id': 72.0, 'value': {'porcentaje': 50.0, 'num': 2.0}}]"
      ]
     },
     "execution_count": 32,
     "metadata": {},
     "output_type": "execute_result"
    }
   ],
   "source": [
    "list(db.porc_respuestas.find()[:20])"
   ]
  },
  {
   "cell_type": "markdown",
   "metadata": {},
   "source": [
    "En este segunda aplicación del Map-Reduce lo único que nos queda por hacer es agrupar cada uno de los porcentajes en los grupos mostrados en la gráfica del apartado RQ3 del artículo y calcular el número de usuarios cuyo porcentaje de respuestas está en esos grupos.\n",
    "\n",
    "Para agrupar los porcentajes, hemos usado la sentencia `switch` de javascript, pasándole el valor `true` para que se ejecute el primero de los casos del `switch` que sea cierto. Una vez tenemos el rango, lo emitimos como clave y añadimos 1 como valor. \n",
    "\n",
    "Cuando a la función `reduce()` le llegan los valores agrupados por clave, únicamente tenemos que sumarlos para contar cuántos pertenecen a cada grupo, de igual manera que en el primer ejemplo que vimos en clase."
   ]
  },
  {
   "cell_type": "code",
   "execution_count": 33,
   "metadata": {},
   "outputs": [
    {
     "data": {
      "text/plain": [
       "[{'_id': '0%', 'value': 8239.0},\n",
       " {'_id': '1-9%', 'value': 124.0},\n",
       " {'_id': '10-19%', 'value': 263.0},\n",
       " {'_id': '100%', 'value': 3564.0},\n",
       " {'_id': '20-29%', 'value': 373.0},\n",
       " {'_id': '30-39%', 'value': 367.0},\n",
       " {'_id': '40-49%', 'value': 119.0},\n",
       " {'_id': '50-59%', 'value': 774.0},\n",
       " {'_id': '60-69%', 'value': 223.0},\n",
       " {'_id': '70-79%', 'value': 152.0},\n",
       " {'_id': '80-89%', 'value': 164.0},\n",
       " {'_id': '90-99%', 'value': 142.0}]"
      ]
     },
     "execution_count": 33,
     "metadata": {},
     "output_type": "execute_result"
    }
   ],
   "source": [
    "rq3_map = Code('''\n",
    "function () {\n",
    "    rango = ''\n",
    "    switch(true){\n",
    "        case this.value.porcentaje == 0.0:\n",
    "            rango = '0%';\n",
    "            break;\n",
    "        case this.value.porcentaje < 10.0:\n",
    "            rango = '1-9%';\n",
    "            break;\n",
    "        case this.value.porcentaje < 20.0:\n",
    "            rango = '10-19%';\n",
    "            break;\n",
    "        case this.value.porcentaje < 30.0:\n",
    "            rango = '20-29%';\n",
    "            break;\n",
    "        case this.value.porcentaje < 40.0:\n",
    "            rango = '30-39%';\n",
    "            break;\n",
    "        case this.value.porcentaje < 50.0:\n",
    "            rango = '40-49%';\n",
    "            break;\n",
    "        case this.value.porcentaje < 60.0:\n",
    "            rango = '50-59%';\n",
    "            break;\n",
    "        case this.value.porcentaje < 70.0:\n",
    "            rango = '60-69%';\n",
    "            break;\n",
    "        case this.value.porcentaje < 80.0:\n",
    "            rango = '70-79%';\n",
    "            break;\n",
    "        case this.value.porcentaje < 90.0:\n",
    "            rango = '80-89%';\n",
    "            break;\n",
    "        case this.value.porcentaje < 100.0:\n",
    "            rango = '90-99%';\n",
    "            break;\n",
    "        case this.value.porcentaje == 100.0:\n",
    "            rango = '100%';\n",
    "            break;\n",
    "    }\n",
    "    emit(rango, 1);\n",
    "}\n",
    "''')\n",
    "\n",
    "rq3_reduce = Code('''\n",
    "function (key, values) {\n",
    "    return Array.sum(values);\n",
    "}\n",
    "''')\n",
    "\n",
    "db.porc_respuestas.map_reduce(rq3_map, rq3_reduce, \"porc_count\")\n",
    "list(db.porc_count.find())"
   ]
  },
  {
   "cell_type": "markdown",
   "metadata": {},
   "source": [
    "Como se puede observar en la salida anterior, el resultado queda ordenado alfabéticamente por el campo `_id`. Por ello, el caso correspondiente al 100% queda el cuarto en la lista. Para ponerlo el último y obtener una gráfica como la de SQL, lo eliminamos de esa posición y lo añadimos al final."
   ]
  },
  {
   "cell_type": "code",
   "execution_count": 34,
   "metadata": {},
   "outputs": [
    {
     "data": {
      "text/plain": [
       "[{'_id': '0%', 'value': 8239.0},\n",
       " {'_id': '1-9%', 'value': 124.0},\n",
       " {'_id': '10-19%', 'value': 263.0},\n",
       " {'_id': '20-29%', 'value': 373.0},\n",
       " {'_id': '30-39%', 'value': 367.0},\n",
       " {'_id': '40-49%', 'value': 119.0},\n",
       " {'_id': '50-59%', 'value': 774.0},\n",
       " {'_id': '60-69%', 'value': 223.0},\n",
       " {'_id': '70-79%', 'value': 152.0},\n",
       " {'_id': '80-89%', 'value': 164.0},\n",
       " {'_id': '90-99%', 'value': 142.0},\n",
       " {'_id': '100%', 'value': 3564.0}]"
      ]
     },
     "execution_count": 34,
     "metadata": {},
     "output_type": "execute_result"
    }
   ],
   "source": [
    "porcentajes = list(db.porc_count.find())\n",
    "porcentajes.append(porcentajes.pop(3))\n",
    "porcentajes"
   ]
  },
  {
   "cell_type": "markdown",
   "metadata": {},
   "source": [
    "A continuación mostramos la gráfica correspondiente a la resolución del ejercicio RQ3."
   ]
  },
  {
   "cell_type": "code",
   "execution_count": 35,
   "metadata": {},
   "outputs": [
    {
     "data": {
      "text/plain": [
       "<matplotlib.axes._subplots.AxesSubplot at 0x7f43c361ac50>"
      ]
     },
     "execution_count": 35,
     "metadata": {},
     "output_type": "execute_result"
    },
    {
     "data": {
      "image/png": "[encoded data removed]",
      "text/plain": [
       "<Figure size 1440x960 with 1 Axes>"
      ]
     },
     "metadata": {
      "needs_background": "light"
     },
     "output_type": "display_data"
    }
   ],
   "source": [
    "df = pd.DataFrame(porcentajes)\n",
    "df.columns = ['Percentages', 'Count']\n",
    "df.plot(x='Percentages', y='Count', kind='bar', figsize=(20,20*2/3), rot=0)"
   ]
  },
  {
   "cell_type": "markdown",
   "metadata": {},
   "source": [
    "## EJERCICIO (difícil, opcional): Con Agregación, calcular, en la tabla `StackOverflowFacts` la media de tiempo que pasa desde que los usuarios se registran hasta que publican su primera pregunta."
   ]
  },
  {
   "cell_type": "markdown",
   "metadata": {},
   "source": [
    "Para la realización de este ejercicio hemos seguido los siguientes pasos:\n",
    "\n",
    "- Primero, creamos un agregado sobre la colección `StackOverflowFacts`, y nos quedamos solo con aquellos facts que tengan el campo `PostTypeId` igual a 1 (las preguntas). \n",
    "- A continuación, agrupamos las preguntas por `OwnerUserId` y nos quedamos con la mínima, la que se realizara antes.\n",
    "- Para poder calcular la diferencia de tiempo, hemos de aplicar el operador `$lookup` para unir cada una de las preguntas con el usuario que la creó. \n",
    "- Después, para eliminar el array que contiene al usuario que se crea por cada pregunta al aplicar el `$lookup`, usamos el operador `$unwind`.\n",
    "- Una vez tenemos cada pregunta con su usuario en el mismo documento, nos quedamos únicamente con su `_id`, la fecha de creación de la pregunta y la diferencia entre esa fecha y la fecha de creación del usuario.\n",
    "- Por último, solo tenemos que calcular la media a todas las diferencias obtenidas en el paso anterior. Para ello, podemos aplicar el operador `$group`, el cual, si le pasamos el parámetro `_id` con valor `None`, aplica la media sobre la variable especificada en toda la colección. Una vez obtenida la media hemos aplicado el operador `$divide` sobre ella para que nos devuelva el resultado en segundos en lugar de en milisegundos, de igual manera que en la práctica de SQL.\n",
    "\n",
    "Comparando el resultado con SQL, hemos constatado de que se trata del mismo valor, excepto por algunos decimales.\n",
    "\n",
    "Dado que estamos aplicando el operador `$lookup` sobre la colección `StackOverflowFacts` consigo misma, esta consulta tarda mucho tiempo si no añadimos un índice sobre el atributo que se pasa como `foreignField` al `lookup`:\n",
    "\n"
   ]
  },
  {
   "cell_type": "code",
   "execution_count": 36,
   "metadata": {},
   "outputs": [
    {
     "data": {
      "text/plain": [
       "'UserId_hashed'"
      ]
     },
     "execution_count": 36,
     "metadata": {},
     "output_type": "execute_result"
    }
   ],
   "source": [
    "db.StackOverflowFacts.create_index([('UserId', pymongo.HASHED)])"
   ]
  },
  {
   "cell_type": "code",
   "execution_count": 37,
   "metadata": {},
   "outputs": [
    {
     "data": {
      "text/plain": [
       "[{'media': 1536940.0048161624}]"
      ]
     },
     "execution_count": 37,
     "metadata": {},
     "output_type": "execute_result"
    }
   ],
   "source": [
    "min_reg_question_time = db.StackOverflowFacts.aggregate([\n",
    "        {\"$match\" : {\"PostTypeId\" : 1}},\n",
    "        {\n",
    "            '$group' : {'_id' : '$OwnerUserId',\n",
    "                        'min' : {'$min' : \"$CreationDate\"}\n",
    "                        }\n",
    "        },\n",
    "        { \"$lookup\" : {\n",
    "            'from': \"StackOverflowFacts\", \n",
    "            'localField': \"_id\",\n",
    "            'foreignField': \"UserId\",\n",
    "            'as': \"user\"}\n",
    "        },\n",
    "        { \"$unwind\" : \"$user\"},\n",
    "        { \"$project\" : {\n",
    "            \"_id\" : True,\n",
    "            \"min\" : True,\n",
    "            \"diff\" : {\"$subtract\" : [\"$min\", \"$user.CreationDate\"]}\n",
    "            }\n",
    "        },\n",
    "        {\n",
    "            \"$group\" :  {\n",
    "                \"_id\" : None,\n",
    "                \"avg\" : { \"$avg\" : \"$diff\" }\n",
    "            }\n",
    "        },\n",
    "        {\n",
    "            \"$project\" : {\n",
    "                \"_id\" : 0,\n",
    "                \"media\" : { \"$divide\" : [\"$avg\", 1000]}\n",
    "            }\n",
    "        }\n",
    "])\n",
    "min_reg_question_time = list(min_reg_question_time)\n",
    "min_reg_question_time"
   ]
  }
 ],
 "metadata": {
  "kernelspec": {
   "display_name": "Python 3",
   "language": "python",
   "name": "python3"
  },
  "language_info": {
   "codemirror_mode": {
    "name": "ipython",
    "version": 3
   },
   "file_extension": ".py",
   "mimetype": "text/x-python",
   "name": "python",
   "nbconvert_exporter": "python",
   "pygments_lexer": "ipython3",
   "version": "3.7.3"
  }
 },
 "nbformat": 4,
 "nbformat_minor": 4
}
