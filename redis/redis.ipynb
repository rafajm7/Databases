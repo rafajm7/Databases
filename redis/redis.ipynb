{
 "cells": [
  {
   "cell_type": "markdown",
   "metadata": {},
   "source": [
    "![Redis](https://blog.michelletorres.mx/wp-content/uploads/2017/12/Redis_Logo.png)"
   ]
  },
  {
   "cell_type": "markdown",
   "metadata": {},
   "source": [
    "En este notebook mostramos los pasos correspondientes a la instalación de Redis, la importación de la base de datos de StackOverflow, la resolución de consultas y las pruebas de eficiencia. El resto de apartados se encuentran recogidos en la memoria PDF adjuntada junto al notebook."
   ]
  },
  {
   "cell_type": "markdown",
   "metadata": {},
   "source": [
    "# 1. Instalación de la base de datos"
   ]
  },
  {
   "cell_type": "markdown",
   "metadata": {},
   "source": [
    "Una vez ejecutado el docker-compose.yml, ya tenemos un servidor de Redis instalado. Para poder conectar con Redis desde el notebook, hemos de usar la librería `redis-py` de python. Para instalarla hemos de ejecutar el siguiente comando:"
   ]
  },
  {
   "cell_type": "code",
   "execution_count": 2,
   "metadata": {},
   "outputs": [
    {
     "name": "stdout",
     "output_type": "stream",
     "text": [
      "Requirement already up-to-date: redis in /opt/conda/lib/python3.7/site-packages (3.3.11)\n"
     ]
    }
   ],
   "source": [
    "!pip install --upgrade redis"
   ]
  },
  {
   "cell_type": "markdown",
   "metadata": {},
   "source": [
    "Además de cargar `redis-py`, también necesitamos, como en el resto de prácticas entregadas, usar `pandas` y `matplotlib` para mostrar los resultados:"
   ]
  },
  {
   "cell_type": "code",
   "execution_count": 1,
   "metadata": {},
   "outputs": [],
   "source": [
    "import pandas as pd\n",
    "import matplotlib.pyplot as plt\n",
    "import matplotlib\n",
    "\n",
    "%matplotlib inline\n",
    "matplotlib.style.use('ggplot')"
   ]
  },
  {
   "cell_type": "markdown",
   "metadata": {},
   "source": [
    "A continuación cargamos la librería `redis-py`, y en particular, su función `Redis`, la cual es la clase central del paquete y nos permite ejecutar los comandos de Redis. No tenemos que preocuparnos por la conexión TCP con el socket, ya que se hace automáticamente cuando llamamos a comandos de Redis usando métodos de la instancia que crearemos a continuación. "
   ]
  },
  {
   "cell_type": "code",
   "execution_count": 2,
   "metadata": {},
   "outputs": [],
   "source": [
    "import redis\n",
    "from redis import Redis"
   ]
  },
  {
   "cell_type": "markdown",
   "metadata": {},
   "source": [
    "Para crear la instancia, llamamos a `Redis` pasándole el nombre del host y el puerto. Por defecto, el puerto que se utiliza para Redis es el 6379. Además, en este comando también podemos indicar qué base de datos queremos elegir, ya que tenemos un total de 16. Al no especificarle ninguna, estamos eligiendo la db 0."
   ]
  },
  {
   "cell_type": "code",
   "execution_count": 3,
   "metadata": {},
   "outputs": [
    {
     "data": {
      "text/plain": [
       "Redis<ConnectionPool<Connection<host=redis,port=6379,db=0>>>"
      ]
     },
     "execution_count": 3,
     "metadata": {},
     "output_type": "execute_result"
    }
   ],
   "source": [
    "r = Redis(host='redis', port=6379)\n",
    "r"
   ]
  },
  {
   "cell_type": "markdown",
   "metadata": {},
   "source": [
    "# 2. Importación de los datos de Stack Overflow"
   ]
  },
  {
   "cell_type": "markdown",
   "metadata": {},
   "source": [
    "Para obtener los ficheros .csv y guardarlos en el directorio previo al actual, simplemente hemos de hacer lo mismo que en las sesiones vistas en clase: creamos la función `download_csv_upper_dir` y la llamamos sobre cada uno de los .csv."
   ]
  },
  {
   "cell_type": "code",
   "execution_count": 5,
   "metadata": {},
   "outputs": [],
   "source": [
    "import os\n",
    "import os.path as path\n",
    "from urllib.request import urlretrieve\n",
    "\n",
    "def download_csv_upper_dir(baseurl, filename):\n",
    "    file = path.abspath(path.join(os.getcwd(),os.pardir,filename))\n",
    "    if not os.path.isfile(file):\n",
    "        urlretrieve(baseurl + '/' + filename, file)\n",
    "        \n",
    "baseurl = 'http://neuromancer.inf.um.es:8080/es.stackoverflow/'\n",
    "download_csv_upper_dir(baseurl, 'Posts.csv')\n",
    "download_csv_upper_dir(baseurl, 'Users.csv')\n",
    "download_csv_upper_dir(baseurl, 'Tags.csv')\n",
    "download_csv_upper_dir(baseurl, 'Comments.csv')\n",
    "download_csv_upper_dir(baseurl, 'Votes.csv')"
   ]
  },
  {
   "cell_type": "markdown",
   "metadata": {},
   "source": [
    "Una vez los tenemos, procedemos a leerlos e importarlos en nuestra base de datos Redis. Para ello, vamos a usar *hashes* múltiples. Este tipo de estructura de datos, que explicamos en el archivo PDF adjuntado a la tarea, nos permite añadir diccionarios como valores.\n",
    "\n",
    "Por tanto, la idea en este caso es añadir un par clave-valor por cada fila de cada tabla de StackOverflow. Los elementos serán por tanto de la forma: 'Users:2000', 'Posts:24', 'Tags:33', etc.\n",
    "\n",
    "Por otro lado, a la hora de ir añadiendo *hashes*, hemos usado el concepto de *pipelining* de Redis, gracias a la función `pipeline()`. Este nos permite reducir el número de transacciones *round-trip* que necesitamos para escribir o leer datos del servidor. Con un *pipeline*, todos los comandos se almacenan en el cliente y se envían de golpe, usando `pipe.hmset()`, en lugar de `r.hmset()`. Habiendo ejecutado esto último necesitaríamos una operación *round-trip* por cada fila escrita."
   ]
  },
  {
   "cell_type": "code",
   "execution_count": 6,
   "metadata": {},
   "outputs": [],
   "source": [
    "import csv\n",
    "import json\n",
    "def csv_to_redis(file,tablename):\n",
    "    with open(file) as f:\n",
    "        # La llamada csv.reader() crea un iterador sobre un fichero CSV\n",
    "        reader = csv.reader(f, dialect='excel')\n",
    "\n",
    "        # Se leen las columnas. Sus nombres se usarán para crear las diferentes columnas en la familia\n",
    "        columns = next(reader)\n",
    "\n",
    "        # Usamos un pipeline para que las inserciones en el hash sean más rápidas\n",
    "        with r.pipeline() as pipe:\n",
    "            for row in reader:\n",
    "                pipe.hmset(tablename+\":\"+row[0],dict(zip(columns[1:], row[1:])))\n",
    "            pipe.execute()"
   ]
  },
  {
   "cell_type": "code",
   "execution_count": 7,
   "metadata": {},
   "outputs": [
    {
     "name": "stdout",
     "output_type": "stream",
     "text": [
      "Importando tabla Posts...\n",
      "CPU times: user 15.6 s, sys: 255 ms, total: 15.9 s\n",
      "Wall time: 17.1 s\n",
      "Importando tabla Votes...\n",
      "CPU times: user 11 s, sys: 104 ms, total: 11.1 s\n",
      "Wall time: 11.6 s\n",
      "Importando tabla Users...\n",
      "CPU times: user 5.31 s, sys: 40.3 ms, total: 5.35 s\n",
      "Wall time: 5.54 s\n",
      "Importando tabla Tags...\n",
      "CPU times: user 89.9 ms, sys: 53 µs, total: 90 ms\n",
      "Wall time: 102 ms\n",
      "Importando tabla Comments...\n",
      "CPU times: user 9.91 s, sys: 132 ms, total: 10 s\n",
      "Wall time: 10.3 s\n"
     ]
    }
   ],
   "source": [
    "tables = ['Posts', 'Votes', 'Users', 'Tags', 'Comments']\n",
    "for t in tables:\n",
    "    print(\"Importando tabla {0}...\".format(t))\n",
    "    %time csv_to_redis('..'+t+ '.csv', t)"
   ]
  },
  {
   "cell_type": "markdown",
   "metadata": {},
   "source": [
    "A modo de ejemplo, si quisiéramos obtener el tag 25, simplemente hemos de llamar a la función `hgetall` de nuestra instancia `r`, y obtiene el diccionario que hemos introducido como valor para ese tag. Se puede observar cómo `redis-py` nos devuelve los resultados en forma de bytes, en lugar de strings, tal y como pasaba en HBase."
   ]
  },
  {
   "cell_type": "code",
   "execution_count": 8,
   "metadata": {},
   "outputs": [
    {
     "data": {
      "text/plain": [
       "{b'Count': b'55',\n",
       " b'ExcerptPostId': b'5008',\n",
       " b'TagName': b'socket',\n",
       " b'WikiPostId': b'5007'}"
      ]
     },
     "execution_count": 8,
     "metadata": {},
     "output_type": "execute_result"
    }
   ],
   "source": [
    "r.hgetall('Tags:25')"
   ]
  },
  {
   "cell_type": "markdown",
   "metadata": {},
   "source": [
    "# 3. Resolución de las consultas"
   ]
  },
  {
   "cell_type": "markdown",
   "metadata": {},
   "source": [
    "## EJERCICIO RQ1"
   ]
  },
  {
   "cell_type": "markdown",
   "metadata": {},
   "source": [
    "Para realizar este ejercicio hemos seguido los siguientes pasos:\n",
    "\n",
    "- Creamos un hash que lleve la cuenta del número de preguntas de cada usuario. \n",
    "- El valor del número de preguntas se inicializa a cero para todos los usuarios, ya que en caso contrario no podríamos contabilizar el número de usuarios que no han hecho preguntas.\n",
    "- Cada vez que localizamos una pregunta, obtenemos el usuario que la hizo e incrementamos su hash usando la función `hincrby` de Redis. Para realizar el incremento comprobamos que el `Id` del usuario que hace la pregunta no sea vacío.\n",
    "- Una vez tenemos los hashes con cada una de las cuentas del número de preguntas, recorremos este hash para contar el número de usuarios por cada número de preguntas, usando de nuevo hincrby. En este caso no hay que inicializar a cero el hash porque únicamente estamos interesados en llevar cuenta de aquellas cantidades de preguntas que hayan sido hechas por algún usuario.\n",
    "\n",
    "Es importante remarcar que usamos la función `scan_iter` para recorrer el hash porque nos permite añadir una expresión regular como parámetro y recorrer únicamente los elementos cuya clave cumpla esa expresión regular. Además, hemos seguido utilizando el concepto de *pipelining* para que la consulta sea más rápida.\n",
    "\n",
    "El resultado final es un hash llamado `Count_RQ1` que contiene el resultado que queríamos obtener con esta consulta."
   ]
  },
  {
   "cell_type": "code",
   "execution_count": 9,
   "metadata": {},
   "outputs": [
    {
     "name": "stdout",
     "output_type": "stream",
     "text": [
      "CPU times: user 23.9 s, sys: 5.52 s, total: 29.5 s\n",
      "Wall time: 33.4 s\n"
     ]
    }
   ],
   "source": [
    "%%time\n",
    "with r.pipeline() as pipe:\n",
    "    for key in r.scan_iter(\"Users:*\"):\n",
    "        idUser = key.decode('utf-8').split(\":\")[1]\n",
    "        pipe.hset('Count:'+idUser,'value',0)\n",
    "    pipe.execute()\n",
    "    \n",
    "    for key in r.scan_iter(\"Posts:*\"):\n",
    "        if (r.hmget(key,b'PostTypeId')[0].decode('utf-8') == '1'):\n",
    "            ownerUserId = r.hmget(key,b'OwnerUserId')[0].decode('utf-8')\n",
    "            if ownerUserId != \"\":\n",
    "                pipe.hincrby('Count:'+ownerUserId,'value',1)\n",
    "    pipe.execute()\n",
    "    \n",
    "    for key in r.scan_iter(\"Count:*\"):\n",
    "        count = r.hmget(key,b'value')[0].decode('utf-8')\n",
    "        pipe.hincrby('CountRQ1',count,1)\n",
    "    pipe.execute()"
   ]
  },
  {
   "cell_type": "markdown",
   "metadata": {},
   "source": [
    "Para obtener el número de usuarios por cada número de preguntas, hemos de ejecutar:"
   ]
  },
  {
   "cell_type": "code",
   "execution_count": 10,
   "metadata": {
    "collapsed": true,
    "jupyter": {
     "outputs_hidden": true
    }
   },
   "outputs": [
    {
     "data": {
      "text/plain": [
       "{b'0': b'38094',\n",
       " b'2': b'1603',\n",
       " b'1': b'6840',\n",
       " b'6': b'184',\n",
       " b'5': b'295',\n",
       " b'11': b'49',\n",
       " b'15': b'35',\n",
       " b'3': b'706',\n",
       " b'10': b'79',\n",
       " b'83': b'2',\n",
       " b'12': b'43',\n",
       " b'9': b'76',\n",
       " b'8': b'105',\n",
       " b'7': b'142',\n",
       " b'4': b'407',\n",
       " b'14': b'37',\n",
       " b'33': b'3',\n",
       " b'23': b'9',\n",
       " b'24': b'16',\n",
       " b'39': b'4',\n",
       " b'30': b'9',\n",
       " b'21': b'15',\n",
       " b'16': b'24',\n",
       " b'25': b'10',\n",
       " b'27': b'5',\n",
       " b'79': b'1',\n",
       " b'20': b'20',\n",
       " b'19': b'19',\n",
       " b'36': b'3',\n",
       " b'115': b'1',\n",
       " b'42': b'1',\n",
       " b'17': b'20',\n",
       " b'44': b'2',\n",
       " b'22': b'16',\n",
       " b'38': b'2',\n",
       " b'45': b'3',\n",
       " b'75': b'1',\n",
       " b'31': b'4',\n",
       " b'107': b'1',\n",
       " b'18': b'13',\n",
       " b'49': b'2',\n",
       " b'29': b'11',\n",
       " b'26': b'12',\n",
       " b'50': b'4',\n",
       " b'130': b'1',\n",
       " b'37': b'6',\n",
       " b'28': b'6',\n",
       " b'13': b'34',\n",
       " b'64': b'2',\n",
       " b'35': b'4',\n",
       " b'96': b'1',\n",
       " b'62': b'2',\n",
       " b'47': b'4',\n",
       " b'71': b'1',\n",
       " b'55': b'2',\n",
       " b'32': b'4',\n",
       " b'46': b'3',\n",
       " b'48': b'5',\n",
       " b'43': b'4',\n",
       " b'72': b'1',\n",
       " b'51': b'3',\n",
       " b'41': b'3',\n",
       " b'84': b'1',\n",
       " b'95': b'1',\n",
       " b'223': b'1',\n",
       " b'60': b'1',\n",
       " b'119': b'2',\n",
       " b'114': b'1',\n",
       " b'158': b'1',\n",
       " b'144': b'1',\n",
       " b'85': b'1',\n",
       " b'34': b'2',\n",
       " b'40': b'2',\n",
       " b'111': b'1',\n",
       " b'54': b'1',\n",
       " b'69': b'1',\n",
       " b'56': b'1',\n",
       " b'94': b'1'}"
      ]
     },
     "execution_count": 10,
     "metadata": {},
     "output_type": "execute_result"
    }
   ],
   "source": [
    "r.hgetall('CountRQ1')"
   ]
  },
  {
   "cell_type": "markdown",
   "metadata": {},
   "source": [
    "Una vez llegados a este punto, viendo que la consulta no es todo lo rápida que podría ser, nos preguntamos si existe una mejor forma de redistribuir los datos de StackOverflow. Lo que hemos hecho consiste en tener tantos hashes como filas hay en cada tabla, conteniendo únicamente como valor el diccionario que hace referencia a los valores de cada fila.\n",
    "\n",
    "En lugar de tener tantos hashes y realizar por tanto tantas iteraciones a la hora de recorrerlos, podríamos tener simplemente un hash por cada tabla. Sin embargo, surge la pregunta de cómo añadir diccionarios anidados a cada hash. Redis no soporta esta operación directamente. Por tanto, hemos de encontrar una manera de representar los datos para que Redis los acepte. La solución encontrada ha sido realizar una serialización de los diccionarios anidados convirtiéndolos a un string, usando la librería `json` de `python`, junto con el uso de la función `hset` de redis, que nos permite ir creando pares clave-valor asociados a cada hash.\n",
    "\n",
    "Tras realizar varias pruebas hemos comprobado que las consultas se realizan más rápidamente, por lo que vamos a limpiar la base de datos y a importarlos de nuevo de esta forma."
   ]
  },
  {
   "cell_type": "markdown",
   "metadata": {},
   "source": [
    "Limpiamos la base de datos:"
   ]
  },
  {
   "cell_type": "code",
   "execution_count": 11,
   "metadata": {},
   "outputs": [
    {
     "data": {
      "text/plain": [
       "True"
      ]
     },
     "execution_count": 11,
     "metadata": {},
     "output_type": "execute_result"
    }
   ],
   "source": [
    "r.flushdb()"
   ]
  },
  {
   "cell_type": "markdown",
   "metadata": {},
   "source": [
    "A continuación creamos una nueva función que construye los hashes indicados arriba. En este caso, en lugar de usar `hmset`, como también hemos indicado, usamos la función `hset`, ya que no necesitamos añadir un diccionario como valor, sino que necesitamos ir añadiendo pares clave-valor, donde cada clave es el string devuelto por la función `dumps` de `json` sobre el diccionario correspondiente a cada fila."
   ]
  },
  {
   "cell_type": "code",
   "execution_count": 12,
   "metadata": {},
   "outputs": [],
   "source": [
    "def csv_to_redis2(file,tablename):\n",
    "    with open(file) as f:\n",
    "        # La llamada csv.reader() crea un iterador sobre un fichero CSV\n",
    "        reader = csv.reader(f, dialect='excel')\n",
    "\n",
    "        # Se leen las columnas. Sus nombres se usarán para crear las diferentes columnas en la familia\n",
    "        columns = next(reader)\n",
    "        \n",
    "        # Usamos un pipeline para que las inserciones en el hash sean más rápidas\n",
    "        with r.pipeline() as pipe:\n",
    "            for row in reader:\n",
    "                pipe.hset(tablename,tablename+':'+row[0],json.dumps(dict(zip(columns[1:], row[1:]))))\n",
    "            pipe.execute()"
   ]
  },
  {
   "cell_type": "code",
   "execution_count": 13,
   "metadata": {},
   "outputs": [
    {
     "name": "stdout",
     "output_type": "stream",
     "text": [
      "Importando tabla Posts...\n",
      "CPU times: user 8.43 s, sys: 189 ms, total: 8.62 s\n",
      "Wall time: 8.97 s\n",
      "Importando tabla Votes...\n",
      "CPU times: user 6.5 s, sys: 44.7 ms, total: 6.54 s\n",
      "Wall time: 6.76 s\n",
      "Importando tabla Users...\n",
      "CPU times: user 2.79 s, sys: 31.9 ms, total: 2.82 s\n",
      "Wall time: 2.86 s\n",
      "Importando tabla Tags...\n",
      "CPU times: user 50.4 ms, sys: 0 ns, total: 50.4 ms\n",
      "Wall time: 50.4 ms\n",
      "Importando tabla Comments...\n",
      "CPU times: user 5.74 s, sys: 79.4 ms, total: 5.82 s\n",
      "Wall time: 6 s\n"
     ]
    }
   ],
   "source": [
    "tables = ['Posts', 'Votes', 'Users', 'Tags', 'Comments']\n",
    "for t in tables:\n",
    "    print(\"Importando tabla {0}...\".format(t))\n",
    "    %time csv_to_redis2('..'+t+ '.csv', t)"
   ]
  },
  {
   "cell_type": "markdown",
   "metadata": {},
   "source": [
    "El proceso para resolver la consulta RQ1 es el mismo que hemos seguido arriba, a diferencia de que ahora usamos `hscan_iter` para recorrer, ya que no necesitamos añadir una expresión regular como parámetro y simplemente queremos recorrer los hashes correspondientes a una tabla concreta. La función `hscan_iter` es especifica de los hashes."
   ]
  },
  {
   "cell_type": "code",
   "execution_count": 18,
   "metadata": {},
   "outputs": [
    {
     "name": "stdout",
     "output_type": "stream",
     "text": [
      "CPU times: user 9.25 s, sys: 428 ms, total: 9.68 s\n",
      "Wall time: 10.8 s\n"
     ]
    }
   ],
   "source": [
    "%%time\n",
    "with r.pipeline() as pipe:\n",
    "    for key in r.hscan_iter(\"Users\"):\n",
    "        idUser = key[0].decode('utf-8').split(\":\")[1]\n",
    "        pipe.hset('Count_aux1','value:'+idUser,0)\n",
    "    pipe.execute()\n",
    "    \n",
    "    for key in r.hscan_iter(\"Posts\"):\n",
    "        if (json.loads(key[1].decode('utf-8'))['PostTypeId'] == '1'):\n",
    "            ownerUserId = json.loads(key[1].decode('utf-8'))['OwnerUserId']\n",
    "            if ownerUserId != \"\":\n",
    "                pipe.hincrby('Count_aux1','value:'+ownerUserId,1)\n",
    "    pipe.execute()\n",
    "    \n",
    "    for key in r.hscan_iter(\"Count_aux1\"):\n",
    "        pipe.hincrby('CountRQ1',key[1],1)\n",
    "    pipe.execute()"
   ]
  },
  {
   "cell_type": "markdown",
   "metadata": {},
   "source": [
    "Podemos observar que la consulta ha sido entorno al triple de rápida que la anterior RQ1. A continuación construimos un diccionario con los valores devueltos por el hash construido y creamos un dataframe que nos permite mostrarlos en forma de histograma:"
   ]
  },
  {
   "cell_type": "code",
   "execution_count": 19,
   "metadata": {},
   "outputs": [
    {
     "data": {
      "text/html": [
       "<div>\n",
       "<style scoped>\n",
       "    .dataframe tbody tr th:only-of-type {\n",
       "        vertical-align: middle;\n",
       "    }\n",
       "\n",
       "    .dataframe tbody tr th {\n",
       "        vertical-align: top;\n",
       "    }\n",
       "\n",
       "    .dataframe thead th {\n",
       "        text-align: right;\n",
       "    }\n",
       "</style>\n",
       "<table border=\"1\" class=\"dataframe\">\n",
       "  <thead>\n",
       "    <tr style=\"text-align: right;\">\n",
       "      <th></th>\n",
       "      <th>Question_number</th>\n",
       "      <th>Count</th>\n",
       "    </tr>\n",
       "  </thead>\n",
       "  <tbody>\n",
       "    <tr>\n",
       "      <td>1</td>\n",
       "      <td>0</td>\n",
       "      <td>38094</td>\n",
       "    </tr>\n",
       "    <tr>\n",
       "      <td>2</td>\n",
       "      <td>1</td>\n",
       "      <td>6840</td>\n",
       "    </tr>\n",
       "    <tr>\n",
       "      <td>3</td>\n",
       "      <td>2</td>\n",
       "      <td>1603</td>\n",
       "    </tr>\n",
       "    <tr>\n",
       "      <td>4</td>\n",
       "      <td>3</td>\n",
       "      <td>706</td>\n",
       "    </tr>\n",
       "    <tr>\n",
       "      <td>5</td>\n",
       "      <td>4</td>\n",
       "      <td>407</td>\n",
       "    </tr>\n",
       "    <tr>\n",
       "      <td>...</td>\n",
       "      <td>...</td>\n",
       "      <td>...</td>\n",
       "    </tr>\n",
       "    <tr>\n",
       "      <td>74</td>\n",
       "      <td>119</td>\n",
       "      <td>2</td>\n",
       "    </tr>\n",
       "    <tr>\n",
       "      <td>75</td>\n",
       "      <td>130</td>\n",
       "      <td>1</td>\n",
       "    </tr>\n",
       "    <tr>\n",
       "      <td>76</td>\n",
       "      <td>144</td>\n",
       "      <td>1</td>\n",
       "    </tr>\n",
       "    <tr>\n",
       "      <td>77</td>\n",
       "      <td>158</td>\n",
       "      <td>1</td>\n",
       "    </tr>\n",
       "    <tr>\n",
       "      <td>78</td>\n",
       "      <td>223</td>\n",
       "      <td>1</td>\n",
       "    </tr>\n",
       "  </tbody>\n",
       "</table>\n",
       "<p>78 rows × 2 columns</p>\n",
       "</div>"
      ],
      "text/plain": [
       "    Question_number  Count\n",
       "1                 0  38094\n",
       "2                 1   6840\n",
       "3                 2   1603\n",
       "4                 3    706\n",
       "5                 4    407\n",
       "..              ...    ...\n",
       "74              119      2\n",
       "75              130      1\n",
       "76              144      1\n",
       "77              158      1\n",
       "78              223      1\n",
       "\n",
       "[78 rows x 2 columns]"
      ]
     },
     "execution_count": 19,
     "metadata": {},
     "output_type": "execute_result"
    }
   ],
   "source": [
    "d = r.hgetall('CountRQ1')\n",
    "d = {int(k.decode('utf8')): int(v.decode('utf8')) for k, v in d.items()}\n",
    "questions_df = pd.DataFrame(list(d.items()),columns=['Question_number','Count'])\n",
    "questions_df = questions_df.sort_values(by = 'Question_number')\n",
    "questions_df.index = range(1, len(questions_df)+1)\n",
    "questions_df"
   ]
  },
  {
   "cell_type": "code",
   "execution_count": 20,
   "metadata": {},
   "outputs": [
    {
     "data": {
      "text/plain": [
       "<matplotlib.axes._subplots.AxesSubplot at 0x7f3890242cf8>"
      ]
     },
     "execution_count": 20,
     "metadata": {},
     "output_type": "execute_result"
    },
    {
     "data": {
      "image/png": "[encoded data removed]",
      "text/plain": [
       "<Figure size 1440x960 with 1 Axes>"
      ]
     },
     "metadata": {
      "needs_background": "light"
     },
     "output_type": "display_data"
    }
   ],
   "source": [
    "questions_df.plot(x='Question_number', y='Count', kind='bar', figsize=(20,20*2/3))"
   ]
  },
  {
   "cell_type": "markdown",
   "metadata": {},
   "source": [
    "# EJERCICIO RQ2"
   ]
  },
  {
   "cell_type": "markdown",
   "metadata": {},
   "source": [
    "El proceso para realizar este ejercicio es el mismo que se ha indicado para la consulta RQ1:"
   ]
  },
  {
   "cell_type": "code",
   "execution_count": 21,
   "metadata": {},
   "outputs": [
    {
     "name": "stdout",
     "output_type": "stream",
     "text": [
      "CPU times: user 10.5 s, sys: 299 ms, total: 10.8 s\n",
      "Wall time: 11.6 s\n"
     ]
    }
   ],
   "source": [
    "%%time\n",
    "with r.pipeline() as pipe:\n",
    "    for key in r.hscan_iter(\"Users\"):\n",
    "        idUser = key[0].decode('utf-8').split(\":\")[1]\n",
    "        pipe.hset('Count_aux2','value:'+idUser,0)\n",
    "    pipe.execute()\n",
    "    \n",
    "    for key in r.hscan_iter(\"Posts\"):\n",
    "        if (json.loads(key[1].decode('utf-8'))['PostTypeId'] == '2'):\n",
    "            ownerUserId = json.loads(key[1].decode('utf-8'))['OwnerUserId']\n",
    "            if ownerUserId != \"\":\n",
    "                pipe.hincrby('Count_aux2','value:'+ownerUserId,1)\n",
    "    pipe.execute()\n",
    "    \n",
    "    for key in r.hscan_iter(\"Count_aux2\"):\n",
    "        pipe.hincrby('CountRQ2',key[1],1)\n",
    "    pipe.execute()"
   ]
  },
  {
   "cell_type": "code",
   "execution_count": 22,
   "metadata": {},
   "outputs": [
    {
     "data": {
      "text/html": [
       "<div>\n",
       "<style scoped>\n",
       "    .dataframe tbody tr th:only-of-type {\n",
       "        vertical-align: middle;\n",
       "    }\n",
       "\n",
       "    .dataframe tbody tr th {\n",
       "        vertical-align: top;\n",
       "    }\n",
       "\n",
       "    .dataframe thead th {\n",
       "        text-align: right;\n",
       "    }\n",
       "</style>\n",
       "<table border=\"1\" class=\"dataframe\">\n",
       "  <thead>\n",
       "    <tr style=\"text-align: right;\">\n",
       "      <th></th>\n",
       "      <th>Answer_number</th>\n",
       "      <th>Count</th>\n",
       "    </tr>\n",
       "  </thead>\n",
       "  <tbody>\n",
       "    <tr>\n",
       "      <td>1</td>\n",
       "      <td>0</td>\n",
       "      <td>42769</td>\n",
       "    </tr>\n",
       "    <tr>\n",
       "      <td>2</td>\n",
       "      <td>1</td>\n",
       "      <td>3358</td>\n",
       "    </tr>\n",
       "    <tr>\n",
       "      <td>3</td>\n",
       "      <td>2</td>\n",
       "      <td>998</td>\n",
       "    </tr>\n",
       "    <tr>\n",
       "      <td>4</td>\n",
       "      <td>3</td>\n",
       "      <td>450</td>\n",
       "    </tr>\n",
       "    <tr>\n",
       "      <td>5</td>\n",
       "      <td>4</td>\n",
       "      <td>263</td>\n",
       "    </tr>\n",
       "    <tr>\n",
       "      <td>...</td>\n",
       "      <td>...</td>\n",
       "      <td>...</td>\n",
       "    </tr>\n",
       "    <tr>\n",
       "      <td>132</td>\n",
       "      <td>469</td>\n",
       "      <td>1</td>\n",
       "    </tr>\n",
       "    <tr>\n",
       "      <td>133</td>\n",
       "      <td>542</td>\n",
       "      <td>1</td>\n",
       "    </tr>\n",
       "    <tr>\n",
       "      <td>134</td>\n",
       "      <td>669</td>\n",
       "      <td>1</td>\n",
       "    </tr>\n",
       "    <tr>\n",
       "      <td>135</td>\n",
       "      <td>729</td>\n",
       "      <td>1</td>\n",
       "    </tr>\n",
       "    <tr>\n",
       "      <td>136</td>\n",
       "      <td>2035</td>\n",
       "      <td>1</td>\n",
       "    </tr>\n",
       "  </tbody>\n",
       "</table>\n",
       "<p>136 rows × 2 columns</p>\n",
       "</div>"
      ],
      "text/plain": [
       "     Answer_number  Count\n",
       "1                0  42769\n",
       "2                1   3358\n",
       "3                2    998\n",
       "4                3    450\n",
       "5                4    263\n",
       "..             ...    ...\n",
       "132            469      1\n",
       "133            542      1\n",
       "134            669      1\n",
       "135            729      1\n",
       "136           2035      1\n",
       "\n",
       "[136 rows x 2 columns]"
      ]
     },
     "execution_count": 22,
     "metadata": {},
     "output_type": "execute_result"
    }
   ],
   "source": [
    "d = r.hgetall('CountRQ2')\n",
    "d = {int(k.decode('utf8')): int(v.decode('utf8')) for k, v in d.items()}\n",
    "answers_df = pd.DataFrame(list(d.items()),columns=['Answer_number','Count'])\n",
    "answers_df = answers_df.sort_values(by = 'Answer_number')\n",
    "answers_df.index = range(1, len(answers_df)+1)\n",
    "answers_df"
   ]
  },
  {
   "cell_type": "code",
   "execution_count": 23,
   "metadata": {},
   "outputs": [
    {
     "data": {
      "text/plain": [
       "<matplotlib.axes._subplots.AxesSubplot at 0x7f3858c2e6a0>"
      ]
     },
     "execution_count": 23,
     "metadata": {},
     "output_type": "execute_result"
    },
    {
     "data": {
      "image/png": "[encoded data removed]",
      "text/plain": [
       "<Figure size 1440x960 with 1 Axes>"
      ]
     },
     "metadata": {
      "needs_background": "light"
     },
     "output_type": "display_data"
    }
   ],
   "source": [
    "answers_df.plot(x='Answer_number', y='Count', kind='bar', figsize=(20,20*2/3))"
   ]
  },
  {
   "cell_type": "markdown",
   "metadata": {},
   "source": [
    "# EJERCICIO RQ3"
   ]
  },
  {
   "cell_type": "markdown",
   "metadata": {},
   "source": [
    "Para resolver esta consulta seguimos el siguiente procedimiento:\n",
    "\n",
    "- Recorremos los posts y creamos dos hashes: percentages y num. Estos dos hashes tienen el cometido de guardar el porcentaje de posts que son respuestas de cada usuario y el número de posts que ha publicado, respectivamente.\n",
    "- Cuando leemos un post, ya sea pregunta o respuesta, pueden pasar dos cosas: que el usuario *owner* del post ya tenga un par clave-valor asociado en los hashes, o que no. En caso de que no existan sus hashes, se crean y se añade 0 al porcentaje si es una pregunta, o 100 si es una respuesta. Por otro lado, se establece como 1 el número de posts de ese usuario.\n",
    "- Una vez vamos leyendo posts de usuarios que sí tienen un par clave-valor en cada hash, hemos de actualizar el porcentaje usando el número de posts que hemos ido guardando. Este porcentaje se actualiza multiplicando el porcentaje anterior por el número de posts y sumándole el nuevo porcentaje (0 o 100). El resultado se divide por el número de posts del usuario más 1, y ya tenemos el nuevo porcentaje.\n",
    "- Cuando acabamos de rellenar ambos hashes, simplemente tenemos que recorrer los porcentajes y contar cuántos de ellos pertenecen a cada uno de los grupos especificados en el paper para la RQ3, lo que nos devuelve un hash final cuyo nombre es `RQ3`. \n",
    "\n",
    "Es importante remarcar que en esta consulta no hemos utilizado *pipelining* ya que, al mandarse todas las consultas a la vez, y depender esas consultas de condiciones lógicas de existencia de los hashes, como unas dependen de la ejecución de otras, no tienen por qué realizarse en el orden que queremos. El no usar *pipelines* influye en el hecho de que esta sea la consulta más lenta de las cuatro."
   ]
  },
  {
   "cell_type": "code",
   "execution_count": 24,
   "metadata": {},
   "outputs": [
    {
     "name": "stdout",
     "output_type": "stream",
     "text": [
      "CPU times: user 28 s, sys: 7.76 s, total: 35.8 s\n",
      "Wall time: 40.7 s\n"
     ]
    }
   ],
   "source": [
    "%%time\n",
    "for key in r.hscan_iter(\"Posts\"):\n",
    "    postTypeId = json.loads(key[1].decode('utf-8'))['PostTypeId']\n",
    "    if (postTypeId == '1'):\n",
    "        ownerUserId = json.loads(key[1].decode('utf-8'))['OwnerUserId'] \n",
    "        percentage = 0\n",
    "    elif (postTypeId == '2'):\n",
    "        ownerUserId = json.loads(key[1].decode('utf-8'))['OwnerUserId'] \n",
    "        percentage = 100\n",
    "    else:\n",
    "        continue\n",
    "    if  not r.hexists('percentage','user:'+ownerUserId):\n",
    "        r.hset('percentage', 'user:'+ownerUserId, percentage)\n",
    "        r.hset('num','user:'+ownerUserId, 1)\n",
    "    else:\n",
    "        perc = float(r.hget('percentage','user:'+ownerUserId).decode('utf-8'))\n",
    "        num = int(r.hget('num','user:'+ownerUserId).decode('utf-8'))\n",
    "        new_perc = (perc*num + percentage)/(num+1)\n",
    "        r.hset('percentage', 'user:'+ownerUserId, new_perc)\n",
    "        r.hincrby('num','user:'+ownerUserId, 1)\n",
    "\n",
    "for key in r.hscan_iter(\"percentage\"):\n",
    "    percentage = float(key[1].decode('utf-8'))\n",
    "    case = lambda x: percentage < x\n",
    "    if percentage == 0.0:\n",
    "        r.hincrby('RQ3','0%',1)\n",
    "    elif case(10.0):\n",
    "        r.hincrby('RQ3','1-9%',1)\n",
    "    elif case(20.0):\n",
    "        r.hincrby('RQ3','10-19%',1)\n",
    "    elif case(30.0):\n",
    "        r.hincrby('RQ3','20-29%',1)\n",
    "    elif case(40.0):\n",
    "        r.hincrby('RQ3','30-39%',1)\n",
    "    elif case(50.0):\n",
    "        r.hincrby('RQ3','40-49%',1)\n",
    "    elif case(60.0):\n",
    "        r.hincrby('RQ3','50-59%',1)\n",
    "    elif case(70.0):\n",
    "        r.hincrby('RQ3','60-69%',1)\n",
    "    elif case(80.0):\n",
    "        r.hincrby('RQ3','70-79%',1)\n",
    "    elif case(90.0):\n",
    "        r.hincrby('RQ3','80-89%',1)\n",
    "    elif case(100.0):\n",
    "        r.hincrby('RQ3','90-99%',1)\n",
    "    elif percentage == 100.0:\n",
    "        r.hincrby('RQ3','100%',1)"
   ]
  },
  {
   "cell_type": "code",
   "execution_count": 25,
   "metadata": {},
   "outputs": [
    {
     "data": {
      "text/plain": [
       "{b'100%': b'3564',\n",
       " b'0%': b'8239',\n",
       " b'20-29%': b'373',\n",
       " b'30-39%': b'368',\n",
       " b'50-59%': b'774',\n",
       " b'60-69%': b'223',\n",
       " b'40-49%': b'118',\n",
       " b'1-9%': b'124',\n",
       " b'10-19%': b'263',\n",
       " b'90-99%': b'142',\n",
       " b'80-89%': b'164',\n",
       " b'70-79%': b'152'}"
      ]
     },
     "execution_count": 25,
     "metadata": {},
     "output_type": "execute_result"
    }
   ],
   "source": [
    "r.hgetall('RQ3')"
   ]
  },
  {
   "cell_type": "markdown",
   "metadata": {},
   "source": [
    "Creamos un diccionario asociado al hash anterior y lo ordenamos. Después lo pasamos a dataframe para mostrarlo como histgrama."
   ]
  },
  {
   "cell_type": "code",
   "execution_count": 26,
   "metadata": {},
   "outputs": [
    {
     "data": {
      "text/html": [
       "<div>\n",
       "<style scoped>\n",
       "    .dataframe tbody tr th:only-of-type {\n",
       "        vertical-align: middle;\n",
       "    }\n",
       "\n",
       "    .dataframe tbody tr th {\n",
       "        vertical-align: top;\n",
       "    }\n",
       "\n",
       "    .dataframe thead th {\n",
       "        text-align: right;\n",
       "    }\n",
       "</style>\n",
       "<table border=\"1\" class=\"dataframe\">\n",
       "  <thead>\n",
       "    <tr style=\"text-align: right;\">\n",
       "      <th></th>\n",
       "      <th>Percentages</th>\n",
       "      <th>Count</th>\n",
       "    </tr>\n",
       "  </thead>\n",
       "  <tbody>\n",
       "    <tr>\n",
       "      <td>0</td>\n",
       "      <td>0%</td>\n",
       "      <td>8239</td>\n",
       "    </tr>\n",
       "    <tr>\n",
       "      <td>1</td>\n",
       "      <td>1-9%</td>\n",
       "      <td>124</td>\n",
       "    </tr>\n",
       "    <tr>\n",
       "      <td>2</td>\n",
       "      <td>10-19%</td>\n",
       "      <td>263</td>\n",
       "    </tr>\n",
       "    <tr>\n",
       "      <td>3</td>\n",
       "      <td>20-29%</td>\n",
       "      <td>373</td>\n",
       "    </tr>\n",
       "    <tr>\n",
       "      <td>4</td>\n",
       "      <td>30-39%</td>\n",
       "      <td>368</td>\n",
       "    </tr>\n",
       "    <tr>\n",
       "      <td>5</td>\n",
       "      <td>40-49%</td>\n",
       "      <td>118</td>\n",
       "    </tr>\n",
       "    <tr>\n",
       "      <td>6</td>\n",
       "      <td>50-59%</td>\n",
       "      <td>774</td>\n",
       "    </tr>\n",
       "    <tr>\n",
       "      <td>7</td>\n",
       "      <td>60-69%</td>\n",
       "      <td>223</td>\n",
       "    </tr>\n",
       "    <tr>\n",
       "      <td>8</td>\n",
       "      <td>70-79%</td>\n",
       "      <td>152</td>\n",
       "    </tr>\n",
       "    <tr>\n",
       "      <td>9</td>\n",
       "      <td>80-89%</td>\n",
       "      <td>164</td>\n",
       "    </tr>\n",
       "    <tr>\n",
       "      <td>10</td>\n",
       "      <td>90-99%</td>\n",
       "      <td>142</td>\n",
       "    </tr>\n",
       "    <tr>\n",
       "      <td>11</td>\n",
       "      <td>100%</td>\n",
       "      <td>3564</td>\n",
       "    </tr>\n",
       "  </tbody>\n",
       "</table>\n",
       "</div>"
      ],
      "text/plain": [
       "   Percentages  Count\n",
       "0           0%   8239\n",
       "1         1-9%    124\n",
       "2       10-19%    263\n",
       "3       20-29%    373\n",
       "4       30-39%    368\n",
       "5       40-49%    118\n",
       "6       50-59%    774\n",
       "7       60-69%    223\n",
       "8       70-79%    152\n",
       "9       80-89%    164\n",
       "10      90-99%    142\n",
       "11        100%   3564"
      ]
     },
     "execution_count": 26,
     "metadata": {},
     "output_type": "execute_result"
    }
   ],
   "source": [
    "d = r.hgetall('RQ3')\n",
    "d = {k.decode('utf8'): int(v.decode('utf8')) for k, v in sorted(d.items(),key=lambda x: int(x[0][:-1].decode('utf-8').split('-')[0]))}\n",
    "df = pd.DataFrame(list(d.items()), columns = ['Percentages', 'Count'])\n",
    "df"
   ]
  },
  {
   "cell_type": "code",
   "execution_count": 27,
   "metadata": {},
   "outputs": [
    {
     "data": {
      "text/plain": [
       "<matplotlib.axes._subplots.AxesSubplot at 0x7f3859d4a160>"
      ]
     },
     "execution_count": 27,
     "metadata": {},
     "output_type": "execute_result"
    },
    {
     "data": {
      "image/png": "[encoded data removed]",
      "text/plain": [
       "<Figure size 1440x960 with 1 Axes>"
      ]
     },
     "metadata": {
      "needs_background": "light"
     },
     "output_type": "display_data"
    }
   ],
   "source": [
    "df.plot(x='Percentages', y='Count', kind='bar', figsize=(20,20*2/3), rot=0)"
   ]
  },
  {
   "cell_type": "markdown",
   "metadata": {},
   "source": [
    "# EJERCICIO RQ4"
   ]
  },
  {
   "cell_type": "markdown",
   "metadata": {},
   "source": [
    "En este ejercicio vamos a combinar el uso de hashes con el uso de listas. A continuación mostramos el proceso seguido y por qué usamos listas además de hashes:\n",
    "\n",
    "- Comenzamos iterando sobre los posts y, para cada respuesta, creamos una serie de hashes que contienen, como nombre, el `Id` del usuario que pregunta, y como par clave/valor hemos repetido el `Id` del usuario que responde. Si hubiéramos usado listas o sets en este paso, cada vez que añadiéramos un elemento a un hash de un usuario concreto, se sobreescribiría el usuario que responde, por lo que hemos decidido tener un hash por cada usuario que pregunta e ir añadiéndole pares clave-valor que hacen referencia al que responde.\n",
    "- Para ir añadiendo elementos a cada hash, hemos de comprobar primero que el `Id` del usuario que pregunta no sea igual al del que responde y que ambos identificadores no sean vacíos.\n",
    "- Una vez tenemos estos nuevos hashes, cuyos nombres empiezan todos por `Users_QA:`, los recorremos usando `scan_iter` y una sencilla expresión regular y, por cada usuario que ha respondido al que forma parte del nombre del hash, comprobamos:\n",
    "    - Si el usuario que pregunta también ha contestado al usuario que responde, como probando si el que pregunta está entre los valores del hash correspondiente al que responde. \n",
    "    - Que el id del usuario que pregunta sea menor que el que responde. De esta manera evitamos duplicados.\n",
    "- Si se verifican estas condiciones, añadimos un elemento a una lista llamada `RQ4`. El motivo de usar una lista se debe a que, si usáramos un hash con nombre `RQ4`, con clave el usuario que pregunta y con valor el que responde, este hash se sobreescribiría cada vez que añadiéramos un nuevo valor a una clave que ya existe. Por tanto, hemos decidido concatenar ambos usuarios y añadirlos a una lista. También se ha probado a usar Sets, y se ha visto que el tiempo de ejecución de ambas queries es muy similar, siendo el de las listas ligeramente inferior."
   ]
  },
  {
   "cell_type": "code",
   "execution_count": 32,
   "metadata": {},
   "outputs": [
    {
     "name": "stdout",
     "output_type": "stream",
     "text": [
      "CPU times: user 10.8 s, sys: 1.47 s, total: 12.3 s\n",
      "Wall time: 14.2 s\n"
     ]
    }
   ],
   "source": [
    "%%time\n",
    "with r.pipeline() as pipe:\n",
    "    for key in r.hscan_iter(\"Posts\"):\n",
    "        row = json.loads(key[1].decode('utf-8'))\n",
    "        if (row['PostTypeId'] == '2'):\n",
    "            ownerUserId = row['OwnerUserId']\n",
    "            parentId = row['ParentId']\n",
    "            questioner = json.loads(r.hget('Posts','Posts:'+parentId).decode('utf-8'))['OwnerUserId']\n",
    "            if questioner != ownerUserId and questioner != \"\" and ownerUserId != \"\":\n",
    "                pipe.hset('Users_QA:'+questioner,'key:'+ownerUserId,ownerUserId)\n",
    "    pipe.execute()\n",
    "    \n",
    "    for name in r.scan_iter(\"Users_QA:*\"):\n",
    "        for value in r.hgetall(name).values():\n",
    "            user1 = name.decode('utf-8').split(':')[1]\n",
    "            user2 = value.decode('utf-8')\n",
    "            if (int(user1) < int(user2) and user1.encode('utf-8') in r.hgetall(\"Users_QA:\"+user2).values()):\n",
    "                pipe.lpush('RQ4', user1 + ' - ' + user2)\n",
    "    pipe.execute()"
   ]
  },
  {
   "cell_type": "markdown",
   "metadata": {},
   "source": [
    "A continuación podemos observar el número de elementos de la lista y todos los usuarios que son recíprocos ordenados por el primer usuario:"
   ]
  },
  {
   "cell_type": "code",
   "execution_count": 29,
   "metadata": {
    "collapsed": true,
    "jupyter": {
     "outputs_hidden": true
    }
   },
   "outputs": [
    {
     "name": "stdout",
     "output_type": "stream",
     "text": [
      "116\n"
     ]
    },
    {
     "data": {
      "text/plain": [
       "[b'21 - 1184',\n",
       " b'22 - 288',\n",
       " b'22 - 342',\n",
       " b'22 - 729',\n",
       " b'23 - 25',\n",
       " b'24 - 25',\n",
       " b'24 - 95',\n",
       " b'24 - 301',\n",
       " b'24 - 463',\n",
       " b'24 - 2230',\n",
       " b'24 - 19610',\n",
       " b'25 - 225',\n",
       " b'25 - 288',\n",
       " b'34 - 250',\n",
       " b'65 - 78',\n",
       " b'65 - 1184',\n",
       " b'65 - 7661',\n",
       " b'65 - 13558',\n",
       " b'73 - 250',\n",
       " b'73 - 2224',\n",
       " b'73 - 6497',\n",
       " b'73 - 9897',\n",
       " b'73 - 29967',\n",
       " b'78 - 250',\n",
       " b'83 - 100',\n",
       " b'83 - 301',\n",
       " b'83 - 29967',\n",
       " b'95 - 29967',\n",
       " b'100 - 187',\n",
       " b'100 - 353',\n",
       " b'100 - 399',\n",
       " b'100 - 529',\n",
       " b'100 - 638',\n",
       " b'100 - 729',\n",
       " b'100 - 2004',\n",
       " b'100 - 2838',\n",
       " b'120 - 531',\n",
       " b'154 - 13938',\n",
       " b'191 - 2230',\n",
       " b'227 - 342',\n",
       " b'227 - 400',\n",
       " b'227 - 2004',\n",
       " b'250 - 399',\n",
       " b'250 - 729',\n",
       " b'250 - 731',\n",
       " b'250 - 2163',\n",
       " b'250 - 2230',\n",
       " b'250 - 2429',\n",
       " b'250 - 6491',\n",
       " b'250 - 9897',\n",
       " b'250 - 10576',\n",
       " b'250 - 12625',\n",
       " b'250 - 13558',\n",
       " b'250 - 13938',\n",
       " b'250 - 14243',\n",
       " b'250 - 18597',\n",
       " b'250 - 19610',\n",
       " b'250 - 27881',\n",
       " b'250 - 29967',\n",
       " b'301 - 2230',\n",
       " b'342 - 517',\n",
       " b'342 - 2367',\n",
       " b'398 - 547',\n",
       " b'398 - 2171',\n",
       " b'399 - 555',\n",
       " b'463 - 801',\n",
       " b'463 - 2742',\n",
       " b'463 - 19600',\n",
       " b'517 - 2676',\n",
       " b'535 - 2230',\n",
       " b'638 - 29967',\n",
       " b'638 - 35232',\n",
       " b'729 - 1798',\n",
       " b'729 - 1839',\n",
       " b'729 - 2224',\n",
       " b'2004 - 2747',\n",
       " b'2163 - 2230',\n",
       " b'2230 - 4684',\n",
       " b'2230 - 12446',\n",
       " b'2230 - 16108',\n",
       " b'2230 - 22112',\n",
       " b'2366 - 5324',\n",
       " b'2429 - 15514',\n",
       " b'2832 - 6497',\n",
       " b'3275 - 35873',\n",
       " b'3440 - 6491',\n",
       " b'5808 - 21775',\n",
       " b'6095 - 13938',\n",
       " b'6491 - 10576',\n",
       " b'6491 - 18771',\n",
       " b'6491 - 23233',\n",
       " b'6491 - 29967',\n",
       " b'6491 - 34430',\n",
       " b'6974 - 29967',\n",
       " b'9874 - 19919',\n",
       " b'13558 - 13938',\n",
       " b'13735 - 14088',\n",
       " b'13883 - 14699',\n",
       " b'13938 - 18771',\n",
       " b'13938 - 19919',\n",
       " b'15855 - 18124',\n",
       " b'16349 - 25360',\n",
       " b'16349 - 25555',\n",
       " b'18376 - 26302',\n",
       " b'18771 - 27881',\n",
       " b'18771 - 29967',\n",
       " b'20709 - 29967',\n",
       " b'22112 - 29967',\n",
       " b'24137 - 38468',\n",
       " b'28050 - 30751',\n",
       " b'29967 - 32268',\n",
       " b'29967 - 39259',\n",
       " b'30877 - 31132',\n",
       " b'34270 - 46823',\n",
       " b'44942 - 44946',\n",
       " b'48306 - 55380']"
      ]
     },
     "execution_count": 29,
     "metadata": {},
     "output_type": "execute_result"
    }
   ],
   "source": [
    "print(r.llen('RQ4'))\n",
    "sorted(r.lrange('RQ4',0,r.llen('RQ4')), key = lambda x: (int(x.decode('utf-8').split(' - ')[0]), int(x.decode('utf-8').split(' - ')[1])))"
   ]
  },
  {
   "cell_type": "markdown",
   "metadata": {},
   "source": [
    "# 4. Pruebas de eficiencia"
   ]
  },
  {
   "cell_type": "markdown",
   "metadata": {},
   "source": [
    "En este apartado vamos a realizar cuatro pruebas de eficiencia entre Redis y el resto de bases de datos vistas en la asignatura, y vamos a mostrar el tiempo de ejecución de las mismas usando histogramas. Las pruebas que vamos a realizar son:\n",
    "\n",
    "- Consulta RQ4.\n",
    "- Consulta RQ3: en este caso compararemos únicamente las bases de datos con las que hemos ejecutado esta consulta (SQL, Mongo y Redis).\n",
    "- Acceso por clave a un determinado elemento de la base de datos.\n",
    "- Tiempo de carga de la tabla Posts. Se usa solo el de Posts porque las diferencias en los tiempos del resto de cargas son proporcionales a las que vamos a ver en este histograma."
   ]
  },
  {
   "cell_type": "markdown",
   "metadata": {},
   "source": [
    "Los tiempos para Redis los hemos ido midiendo conforme hacíamos el notebook, mientras que los otros los hemos medido en los notebooks correspondientes. Para medir el acceso por clave en Redis hacemos:"
   ]
  },
  {
   "cell_type": "code",
   "execution_count": 41,
   "metadata": {},
   "outputs": [
    {
     "name": "stdout",
     "output_type": "stream",
     "text": [
      "86.4 µs ± 26.9 µs per loop (mean ± std. dev. of 7 runs, 10000 loops each)\n"
     ]
    }
   ],
   "source": [
    "%timeit r.hmget(\"Posts\", \"Posts:25\")"
   ]
  },
  {
   "cell_type": "markdown",
   "metadata": {},
   "source": [
    "A continuación se muestra cada uno de los histogramas mencionados. En el primero de ellos, correspondiente a la consulta RQ4, podemos obsevar que HBase es el más lento de todos, ya que para su ejecución creamos una tabla intermedia y el proceso era más largo. La más rápida es Mongo, mientras que Redis no da un tiempo excesivamente alto pero se ve superada por SQL, Mongo y Neo4j."
   ]
  },
  {
   "cell_type": "markdown",
   "metadata": {},
   "source": [
    "![](Hist_RQ4.png)"
   ]
  },
  {
   "cell_type": "markdown",
   "metadata": {},
   "source": [
    "En la siguiente figura vemos cómo Redis tarda mucho más en realizar la RQ3 que Mongo y SQL, siendo esta última la más rápida."
   ]
  },
  {
   "cell_type": "markdown",
   "metadata": {},
   "source": [
    "![](Hist_RQ3.png)"
   ]
  },
  {
   "cell_type": "markdown",
   "metadata": {},
   "source": [
    "Para el histograma de acceso por clave, hemos tenido que poner escala logarítmica en el eje Y, debido a los resultados dispares que hemos obtenido. Se puede apreciar que, exceptuando a Mongo, Redis es más rápida que las demás en esta tarea."
   ]
  },
  {
   "cell_type": "markdown",
   "metadata": {},
   "source": [
    "![](HistAccesoClave.png)"
   ]
  },
  {
   "cell_type": "markdown",
   "metadata": {},
   "source": [
    "Por último, en lo que respecta a la carga de los CSV en las diferentes bases de datos, volvemos a ver cómo Redis mejora a la mayoría, viéndose únicamente superada por SQL."
   ]
  },
  {
   "cell_type": "markdown",
   "metadata": {},
   "source": [
    "![](HistCarga.png)"
   ]
  }
 ],
 "metadata": {
  "kernelspec": {
   "display_name": "Python 3",
   "language": "python",
   "name": "python3"
  },
  "language_info": {
   "codemirror_mode": {
    "name": "ipython",
    "version": 3
   },
   "file_extension": ".py",
   "mimetype": "text/x-python",
   "name": "python",
   "nbconvert_exporter": "python",
   "pygments_lexer": "ipython3",
   "version": "3.7.3"
  }
 },
 "nbformat": 4,
 "nbformat_minor": 4
}
